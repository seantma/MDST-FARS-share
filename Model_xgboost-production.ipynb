{
 "cells": [
  {
   "cell_type": "code",
   "execution_count": 1,
   "metadata": {
    "collapsed": false
   },
   "outputs": [],
   "source": [
    "import xgboost as xgb\n",
    "import pandas as pd\n",
    "import numpy as np\n",
    "import random"
   ]
  },
  {
   "cell_type": "code",
   "execution_count": 2,
   "metadata": {
    "collapsed": true
   },
   "outputs": [],
   "source": [
    "import matplotlib.pyplot as plt\n",
    "%matplotlib inline"
   ]
  },
  {
   "cell_type": "code",
   "execution_count": 3,
   "metadata": {
    "collapsed": false
   },
   "outputs": [
    {
     "name": "stderr",
     "output_type": "stream",
     "text": [
      "/usr/cac/rhel6/lsa/anaconda-vis-portal/latest/lib/python3.5/site-packages/IPython/core/interactiveshell.py:2902: DtypeWarning: Columns (28,59,60,68) have mixed types. Specify dtype option on import or set low_memory=False.\n",
      "  interactivity=interactivity, compiler=compiler, result=result)\n",
      "/usr/cac/rhel6/lsa/anaconda-vis-portal/latest/lib/python3.5/site-packages/IPython/core/interactiveshell.py:2902: DtypeWarning: Columns (27,66) have mixed types. Specify dtype option on import or set low_memory=False.\n",
      "  interactivity=interactivity, compiler=compiler, result=result)\n"
     ]
    }
   ],
   "source": [
    "alltrain_df = pd.read_csv('./all_train_nohash.csv')\n",
    "alltest_df = pd.read_csv('./all_test_nohash.csv')"
   ]
  },
  {
   "cell_type": "code",
   "execution_count": 4,
   "metadata": {
    "collapsed": true
   },
   "outputs": [],
   "source": [
    "drops = [\"Unnamed: 0\",\n",
    "         \"VE_FORMS.y\",\"HARM_EV.y\",\"MAN_COLL.y\",\"RAIL\",\"TWAY_ID\",\n",
    "         \"CF1\",\"CF2\",\"CF3\",\n",
    "         \"VIN\",\"VIN_1\",\"VIN_2\",\"VIN_3\",\"VIN_4\",\"VIN_5\",\"VIN_6\",\"VIN_7\",\"VIN_8\",\n",
    "         \"VIN_9\",\"VIN_10\",\"VIN_11\",\"VIN_12\",\"MCARR_ID\",\n",
    "         \"VEH_NO.y\",\"COUNTY.y\", \"DAY.y\",\"MONTH.y\",\"HOUR.y\",\"MINUTE.y\",\"ROAD_FNC.y\",\n",
    "         \"SCH_BUS.y\",\"MAKE.y\",\"MAK_MOD.y\",\"BODY_TYP.y\",\"MOD_YEAR.y\",\n",
    "         \"TOW_VEH.y\",\"SPEC_USE.y\",\"EMER_USE.y\",\"ROLLOVER.y\",\"IMPACT1.y\",\"FIRE_EXP.y\",\n",
    "         \"CERT_NO\"\n",
    "        ]"
   ]
  },
  {
   "cell_type": "code",
   "execution_count": 5,
   "metadata": {
    "collapsed": false
   },
   "outputs": [],
   "source": [
    "for col in drops:\n",
    "    del alltrain_df[col]"
   ]
  },
  {
   "cell_type": "code",
   "execution_count": 6,
   "metadata": {
    "collapsed": true
   },
   "outputs": [],
   "source": [
    "for col in drops:\n",
    "    del alltest_df[col]"
   ]
  },
  {
   "cell_type": "code",
   "execution_count": 7,
   "metadata": {
    "collapsed": false
   },
   "outputs": [],
   "source": [
    "train_x = alltrain_df.drop(['DRUNK_DR','YEAR'], axis=1)\n",
    "train_y = alltrain_df['DRUNK_DR']\n",
    "test_x = alltest_df"
   ]
  },
  {
   "cell_type": "code",
   "execution_count": 8,
   "metadata": {
    "collapsed": false
   },
   "outputs": [],
   "source": [
    "trainX = train_x.as_matrix()\n",
    "trainY = train_y.astype(int)\n",
    "testX = test_x.as_matrix()"
   ]
  },
  {
   "cell_type": "code",
   "execution_count": 9,
   "metadata": {
    "collapsed": false,
    "scrolled": true
   },
   "outputs": [],
   "source": [
    "dtrain = xgb.DMatrix(trainX, label=trainY)\n",
    "dtest = xgb.DMatrix(testX)"
   ]
  },
  {
   "cell_type": "markdown",
   "metadata": {},
   "source": [
    "### Parameter tuning\n",
    "1. for `scale_pos_weight`, read more [here](https://github.com/dmlc/xgboost/blob/master/demo/kaggle-higgs/speedtest.py)\n",
    "2. If you care about predicting the right probability, which in such a case, you cannot re-balance the dataset. Set parameter `max_delta_step` to a finite number (say 1) will help convergence. Read more [here](https://github.com/dmlc/xgboost/blob/master/doc/param_tuning.md)"
   ]
  },
  {
   "cell_type": "code",
   "execution_count": 10,
   "metadata": {
    "collapsed": false,
    "scrolled": true
   },
   "outputs": [],
   "source": [
    "# parameter tuning\n",
    "# random.seed(1024)\n",
    "\n",
    "param = {}\n",
    "param['objective'] = 'binary:logistic'\n",
    "\n",
    "# scale weight of positive examples\n",
    "# rescale weight to make it same as test set\n",
    "# testsize = 543015\n",
    "# weight = dtrain[:,31] * float(test_size) / len(train_y)\n",
    "# param['scale_pos_weight'] = sum_wneg/sum_wpos\n",
    "\n",
    "ratio = float(np.sum(train_y == 1)) / np.sum(train_y == 0)\n",
    "param['scale_pos_weight'] = ratio\n",
    "\n",
    "param['eta'] = 0.05\n",
    "param['max_depth'] = 7\n",
    "param['eval_metric'] = 'auc'\n",
    "# param['silent'] = 1\n",
    "param['min_child_weight'] = 1\n",
    "param['subsample'] = 0.7\n",
    "param['colsample_bytree'] = 0.7\n",
    "param['nthread'] = 8\n",
    "\n",
    "# Sean:: can't understand how to get dtrain[:, 31]=weight !!\n",
    "# def fpreproc(dtrain, dtest, param):\n",
    "#     label = dtrain.get_label()\n",
    "#     ratio = float(np.sum(label == 0)) / np.sum(label==1)\n",
    "#     print(\"ratio= \", ratio)\n",
    "#     param['scale_pos_weight'] = ratio\n",
    "#     wtrain = dtrain.get_weight()\n",
    "#     wtest = dtest.get_weight()\n",
    "#     sum_weight = sum(wtrain) + sum(wtest)\n",
    "#     wtrain *= sum_weight / sum(wtrain)\n",
    "#     wtest *= sum_weight / sum(wtest)\n",
    "#     print(\"final wtrain, wtest = \", wtrain, wtest)\n",
    "#     dtrain.set_weight(wtrain)\n",
    "#     dtest.set_weight(wtest)\n",
    "#     return (dtrain, dtest, param)\n",
    "\n",
    "# XGBoostError: b'[13:07:13] src/metric/rank_metric.cc:36: \n",
    "# Check failed: (info.weights.size()) == (ndata) we need weight to evaluate ams'\n",
    "#\n",
    "# bst_cv = xgb.cv(param, dtrain, num_boost_round=50, nfold=5, metrics={'ams@0.15', 'auc'}, seed=0)\n",
    "# bst_cv"
   ]
  },
  {
   "cell_type": "code",
   "execution_count": 11,
   "metadata": {
    "collapsed": false
   },
   "outputs": [],
   "source": [
    "bst_cv = xgb.cv(param, dtrain, num_boost_round=1000, nfold=5, seed=0)"
   ]
  },
  {
   "cell_type": "code",
   "execution_count": 12,
   "metadata": {
    "collapsed": false,
    "scrolled": true
   },
   "outputs": [
    {
     "data": {
      "text/plain": [
       "999"
      ]
     },
     "execution_count": 12,
     "metadata": {},
     "output_type": "execute_result"
    }
   ],
   "source": [
    "tst = pd.DataFrame(bst_cv)\n",
    "test = tst['train-auc-mean']-tst['train-auc-std']\n",
    "test.idxmax()"
   ]
  },
  {
   "cell_type": "code",
   "execution_count": 13,
   "metadata": {
    "collapsed": true
   },
   "outputs": [],
   "source": [
    "num_round = test.idxmax()"
   ]
  },
  {
   "cell_type": "code",
   "execution_count": 14,
   "metadata": {
    "collapsed": false
   },
   "outputs": [
    {
     "data": {
      "text/plain": [
       "<xgboost.core.Booster at 0x2ae49b36ec18>"
      ]
     },
     "execution_count": 14,
     "metadata": {},
     "output_type": "execute_result"
    }
   ],
   "source": [
    "bst = xgb.train(param, dtrain, num_round)\n",
    "bst"
   ]
  },
  {
   "cell_type": "code",
   "execution_count": 15,
   "metadata": {
    "collapsed": false
   },
   "outputs": [],
   "source": [
    "ypred = bst.predict(dtest)"
   ]
  },
  {
   "cell_type": "markdown",
   "metadata": {},
   "source": [
    "### Averaging the votes in prediction"
   ]
  },
  {
   "cell_type": "code",
   "execution_count": 16,
   "metadata": {
    "collapsed": true
   },
   "outputs": [],
   "source": [
    "predict_df = pd.DataFrame(data={'ID': alltest_df['ID'], 'DRUNK_DR': ypred})\n",
    "grouped_predict = predict_df.groupby('ID')\n",
    "prediction = grouped_predict.mean()"
   ]
  },
  {
   "cell_type": "raw",
   "metadata": {},
   "source": [
    "prediction.index"
   ]
  },
  {
   "cell_type": "markdown",
   "metadata": {},
   "source": [
    "### Given a prediction, create a Kaggle submission file\n"
   ]
  },
  {
   "cell_type": "code",
   "execution_count": 17,
   "metadata": {
    "collapsed": true
   },
   "outputs": [],
   "source": [
    "submit = pd.DataFrame(data={'ID': prediction.index, 'DRUNK_DR': prediction})\n",
    "submit.to_csv('fars_submit_xgb004_production_weighted.csv', index = False)"
   ]
  }
 ],
 "metadata": {
  "kernelspec": {
   "display_name": "Python 3",
   "language": "python",
   "name": "python3"
  },
  "language_info": {
   "codemirror_mode": {
    "name": "ipython",
    "version": 3
   },
   "file_extension": ".py",
   "mimetype": "text/x-python",
   "name": "python",
   "nbconvert_exporter": "python",
   "pygments_lexer": "ipython3",
   "version": "3.5.1"
  }
 },
 "nbformat": 4,
 "nbformat_minor": 0
}
