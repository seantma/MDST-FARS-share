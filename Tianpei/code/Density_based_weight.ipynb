{
 "cells": [
  {
   "cell_type": "markdown",
   "metadata": {},
   "source": [
    "# Generate weight to relate the density of events\n",
    "\n",
    "The longitude and latitude of event provide information for their interconnection. We use the averge of the k-nearest neighbor distance to infer the reverse density. The intuition is the $$ P(\\text{drunk driver} \\| \\text{accident}, \\text{loc})= \\frac{P(\\text{drunk driver}, \\text{accident}, \\text{loc})}{P(\\text{accident}|\\text{loc})}$$"
   ]
  },
  {
   "cell_type": "code",
   "execution_count": 1,
   "metadata": {
    "collapsed": false
   },
   "outputs": [
    {
     "name": "stdout",
     "output_type": "stream",
     "text": [
      "Once deleted, variables cannot be recovered. Proceed (y/[n])? y\n"
     ]
    },
    {
     "name": "stderr",
     "output_type": "stream",
     "text": [
      "/Applications/anaconda/lib/python2.7/site-packages/IPython/html.py:14: ShimWarning: The `IPython.html` package has been deprecated. You should import from `notebook` instead. `IPython.html.widgets` has moved to `ipywidgets`.\n",
      "  \"`IPython.html.widgets` has moved to `ipywidgets`.\", ShimWarning)\n"
     ]
    }
   ],
   "source": [
    "%reset \n",
    "%matplotlib inline\n",
    "import os\n",
    "import pandas as pd\n",
    "import numpy as np\n",
    "import matplotlib.pyplot as plt\n",
    "import seaborn as sns\n",
    "\n",
    "#import sqlite3\n",
    "from sklearn.neighbors import kneighbors_graph"
   ]
  },
  {
   "cell_type": "code",
   "execution_count": 2,
   "metadata": {
    "collapsed": false
   },
   "outputs": [
    {
     "name": "stdout",
     "output_type": "stream",
     "text": [
      "Load accident data set\n"
     ]
    }
   ],
   "source": [
    "# read the accident file\n",
    "print(\"Load accident data set\")\n",
    "acc_trn_df = pd.read_csv(\"./train/accident_train.csv\")\n",
    "acc_trn_df.fillna(0, inplace=True)\n",
    "n_acc= len(acc_trn_df.index)"
   ]
  },
  {
   "cell_type": "code",
   "execution_count": 3,
   "metadata": {
    "collapsed": false
   },
   "outputs": [],
   "source": [
    "acc_trn_latlon_df = acc_trn_df.loc[:,['LATITUDE','LONGITUD']]\n",
    "acc_trn_latlon_df['LATITUDE'] = acc_trn_latlon_df['LATITUDE'].map(lambda x: x if(x <= 90 and x>= -90) \n",
    "                                                                  else np.random.randint(low= 30, high= 50, size=1))\n",
    "acc_trn_latlon_df['LONGITUD'] = acc_trn_latlon_df['LONGITUD'].map(lambda x: x if(x <= 180 and x>= -180) \n",
    "                                                                  else np.random.randint(low=-130, high=-80, size=1))\n",
    "acc_trn_df.loc[:,['LATITUDE','LONGITUD']] = acc_trn_latlon_df "
   ]
  },
  {
   "cell_type": "markdown",
   "metadata": {},
   "source": [
    "from sklearn.cluster import DBSCAN\n",
    "print(\"Use DBSCAN - Density-Based Spatial Clustering of Applications with Noise to cluser\")\n",
    "dbscan = DBSCAN(eps=1, min_samples = 280, algorithm='kd_tree')"
   ]
  },
  {
   "cell_type": "code",
   "execution_count": 4,
   "metadata": {
    "collapsed": false
   },
   "outputs": [],
   "source": [
    "rho = 0.2\n",
    "n_acc= len(acc_trn_df.index)\n",
    "np.random.seed(12130) \n",
    "randIndex2 = np.random.choice(acc_trn_latlon_df.index.tolist(), np.ceil(n_acc*rho).astype(np.int64))"
   ]
  },
  {
   "cell_type": "markdown",
   "metadata": {
    "collapsed": false
   },
   "source": [
    "subsample_trn = acc_trn_latlon_df.loc[randIndex2,:]\n",
    "dbscan.fit(X=subsample_trn.values)\n",
    "labels = dbscan.labels_\n",
    "dbscan_values = dbscan.components_      "
   ]
  },
  {
   "cell_type": "markdown",
   "metadata": {
    "collapsed": false
   },
   "source": [
    "sns.distplot(labels[np.random.choice(len(labels), 1000)], kde=False, rug=True) "
   ]
  },
  {
   "cell_type": "markdown",
   "metadata": {
    "collapsed": true
   },
   "source": [
    "unique_labels = np.unique(labels)\n",
    "import matplotlib.colors as colors\n",
    "import matplotlib.cm as cmx\n",
    "jet = cm = plt.get_cmap('jet') \n",
    "cNorm  = colors.Normalize(vmin=-1, vmax=unique_labels[-1])\n",
    "scalarMap = cmx.ScalarMappable(norm=cNorm, cmap=jet)"
   ]
  },
  {
   "cell_type": "markdown",
   "metadata": {
    "collapsed": true
   },
   "source": [
    "randIndex2 = np.random.choice(acc_trn_latlon_df.dropna(axis=0).index.tolist(), 50000)\n",
    "temp2 = acc_trn_latlon_df.loc[randIndex2,:]"
   ]
  },
  {
   "cell_type": "markdown",
   "metadata": {
    "collapsed": false
   },
   "source": [
    "from mpl_toolkits.basemap import Basemap\n",
    "fig = plt.figure()\n",
    "fig.set_size_inches(30,30)\n",
    "m = Basemap(llcrnrlon=-130, llcrnrlat=np.min(temp2['LATITUDE']), \n",
    "            urcrnrlon=np.max(temp2['LONGITUD']), urcrnrlat=50, \n",
    "            #llcrnrlon=np.min(temp2['LONGITUD'])-20, llcrnrlat=np.min(temp2['LATITUDE'])-10, \\\n",
    "            #urcrnrlon=np.max(temp2['LONGITUD'])+20, urcrnrlat=np.max(temp2['LATITUDE'])+10,\\\n",
    "            projection='lcc', resolution='i', area_thresh=1, lat_1=-40, lat_2=42,lon_0=-85)\n",
    "m.drawcoastlines()\n",
    "m.drawstates()\n",
    "m.drawcountries()\n",
    "for c in np.unique(labels):\n",
    "    lons = acc_trn_latlon_df.loc[randIndex2[labels==c],'LONGITUD'].values\n",
    "    lats = acc_trn_latlon_df.loc[randIndex2[labels==c],'LATITUDE'].values\n",
    "    x, y = m(lons, lats)\n",
    "    colorVal = scalarMap.to_rgba(c)\n",
    "    m.scatter(x, y, s=20, marker='o', color=colorVal, label=str(c))\n",
    "\n",
    "#ax = plt.gca()\n",
    "#handles, labels = ax.get_legend_handles_labels()  \n",
    "plt.legend()\n",
    "plt.show()"
   ]
  },
  {
   "cell_type": "markdown",
   "metadata": {},
   "source": [
    "predict labels for other samples"
   ]
  },
  {
   "cell_type": "markdown",
   "metadata": {
    "collapsed": true
   },
   "source": [
    "n_batch = 10000\n",
    "label_temp = np.zeros((n_acc,),dtype=np.int64)\n",
    "#np.ceil(n_acc/n_batch)"
   ]
  },
  {
   "cell_type": "markdown",
   "metadata": {
    "collapsed": true
   },
   "source": [
    "for i in np.arange(np.ceil(n_acc/n_batch).astype(np.int64), dtype=np.int64):\n",
    "    if i != np.ceil(n_acc/n_batch)-1:\n",
    "        index_set = acc_trn_df.index[np.arange(start=i*n_batch, stop=(i+1)*n_batch)]\n",
    "        temp_val = acc_trn_df.loc[index_set,['LATITUDE','LONGITUD']].values\n",
    "        label_temp[i*n_batch:(i+1)*n_batch] = dbscan.fit_predict(temp_val)\n",
    "    else:\n",
    "        index_set = acc_trn_df.index[np.arange(start=i*n_batch, stop=n_acc)]\n",
    "        temp_val = acc_trn_df.loc[index_set,['LATITUDE','LONGITUD']].values\n",
    "        label_temp[i*n_batch:n_acc] = dbscan.fit_predict(temp_val)"
   ]
  },
  {
   "cell_type": "markdown",
   "metadata": {
    "collapsed": true
   },
   "source": [
    "array_temp = np.column_stack((acc_trn_df['ID'].astype(np.int64).tolist(),label_temp))   \n",
    "acc_trn_lat_lon_label_df = pd.DataFrame(data=array_temp, columns=[\"ID\",\"LAT_LON_CLUSTER\"])"
   ]
  },
  {
   "cell_type": "markdown",
   "metadata": {},
   "source": [
    "## Compute the knn graph from kd-tree"
   ]
  },
  {
   "cell_type": "code",
   "execution_count": 5,
   "metadata": {
    "collapsed": true
   },
   "outputs": [],
   "source": [
    "k = 20 #find 280 nearest neigbhors"
   ]
  },
  {
   "cell_type": "code",
   "execution_count": 6,
   "metadata": {
    "collapsed": true
   },
   "outputs": [],
   "source": [
    "Knn_Graph = kneighbors_graph(X=acc_trn_latlon_df, n_neighbors=k, mode='distance', metric='minkowski', p=2)"
   ]
  },
  {
   "cell_type": "code",
   "execution_count": 7,
   "metadata": {
    "collapsed": false
   },
   "outputs": [],
   "source": [
    "weight_sum = Knn_Graph.sum(axis=0) / k"
   ]
  },
  {
   "cell_type": "code",
   "execution_count": 8,
   "metadata": {
    "collapsed": false
   },
   "outputs": [
    {
     "data": {
      "text/plain": [
       "17300.805882357781"
      ]
     },
     "execution_count": 8,
     "metadata": {},
     "output_type": "execute_result"
    }
   ],
   "source": [
    "weight_sum.sum()"
   ]
  },
  {
   "cell_type": "code",
   "execution_count": 9,
   "metadata": {
    "collapsed": false
   },
   "outputs": [
    {
     "data": {
      "image/png": "[encoded data removed]",
      "text/plain": [
       "<matplotlib.figure.Figure at 0x114a751d0>"
      ]
     },
     "metadata": {},
     "output_type": "display_data"
    }
   ],
   "source": [
    "fig = plt.figure() \n",
    "fig.set_size_inches(10,10) \n",
    "width = 0.001\n",
    "p1 = plt.plot(randIndex2, weight_sum[:,randIndex2].T, 'ob')\n",
    "plt.ylabel('Scores')\n",
    "plt.xlabel('index')\n",
    "plt.show()   "
   ]
  },
  {
   "cell_type": "code",
   "execution_count": 10,
   "metadata": {
    "collapsed": true
   },
   "outputs": [],
   "source": [
    "normal_weight = weight_sum / weight_sum.sum() * n_acc"
   ]
  },
  {
   "cell_type": "code",
   "execution_count": 12,
   "metadata": {
    "collapsed": false
   },
   "outputs": [],
   "source": [
    "temp = np.column_stack((acc_trn_df['ID'].astype(np.int64).tolist(), normal_weight.T))   "
   ]
  },
  {
   "cell_type": "code",
   "execution_count": 13,
   "metadata": {
    "collapsed": false
   },
   "outputs": [
    {
     "data": {
      "text/html": [
       "<div>\n",
       "<table border=\"1\" class=\"dataframe\">\n",
       "  <thead>\n",
       "    <tr style=\"text-align: right;\">\n",
       "      <th></th>\n",
       "      <th>ID</th>\n",
       "      <th>WEIGHT</th>\n",
       "    </tr>\n",
       "  </thead>\n",
       "  <tbody>\n",
       "    <tr>\n",
       "      <th>0</th>\n",
       "      <td>0</td>\n",
       "      <td>0.824355</td>\n",
       "    </tr>\n",
       "    <tr>\n",
       "      <th>1</th>\n",
       "      <td>1</td>\n",
       "      <td>0.798398</td>\n",
       "    </tr>\n",
       "    <tr>\n",
       "      <th>2</th>\n",
       "      <td>2</td>\n",
       "      <td>0.814209</td>\n",
       "    </tr>\n",
       "    <tr>\n",
       "      <th>3</th>\n",
       "      <td>3</td>\n",
       "      <td>1.354746</td>\n",
       "    </tr>\n",
       "    <tr>\n",
       "      <th>4</th>\n",
       "      <td>4</td>\n",
       "      <td>1.205015</td>\n",
       "    </tr>\n",
       "    <tr>\n",
       "      <th>5</th>\n",
       "      <td>5</td>\n",
       "      <td>1.072101</td>\n",
       "    </tr>\n",
       "    <tr>\n",
       "      <th>6</th>\n",
       "      <td>6</td>\n",
       "      <td>0.670482</td>\n",
       "    </tr>\n",
       "    <tr>\n",
       "      <th>7</th>\n",
       "      <td>7</td>\n",
       "      <td>1.244788</td>\n",
       "    </tr>\n",
       "    <tr>\n",
       "      <th>8</th>\n",
       "      <td>8</td>\n",
       "      <td>1.149064</td>\n",
       "    </tr>\n",
       "    <tr>\n",
       "      <th>9</th>\n",
       "      <td>9</td>\n",
       "      <td>1.696344</td>\n",
       "    </tr>\n",
       "    <tr>\n",
       "      <th>10</th>\n",
       "      <td>10</td>\n",
       "      <td>0.580382</td>\n",
       "    </tr>\n",
       "    <tr>\n",
       "      <th>11</th>\n",
       "      <td>11</td>\n",
       "      <td>1.312196</td>\n",
       "    </tr>\n",
       "    <tr>\n",
       "      <th>12</th>\n",
       "      <td>12</td>\n",
       "      <td>0.731246</td>\n",
       "    </tr>\n",
       "    <tr>\n",
       "      <th>13</th>\n",
       "      <td>13</td>\n",
       "      <td>1.258566</td>\n",
       "    </tr>\n",
       "    <tr>\n",
       "      <th>14</th>\n",
       "      <td>14</td>\n",
       "      <td>0.782353</td>\n",
       "    </tr>\n",
       "    <tr>\n",
       "      <th>15</th>\n",
       "      <td>15</td>\n",
       "      <td>0.158874</td>\n",
       "    </tr>\n",
       "    <tr>\n",
       "      <th>16</th>\n",
       "      <td>16</td>\n",
       "      <td>0.753742</td>\n",
       "    </tr>\n",
       "    <tr>\n",
       "      <th>17</th>\n",
       "      <td>17</td>\n",
       "      <td>0.550804</td>\n",
       "    </tr>\n",
       "    <tr>\n",
       "      <th>18</th>\n",
       "      <td>18</td>\n",
       "      <td>0.385269</td>\n",
       "    </tr>\n",
       "    <tr>\n",
       "      <th>19</th>\n",
       "      <td>19</td>\n",
       "      <td>2.168831</td>\n",
       "    </tr>\n",
       "    <tr>\n",
       "      <th>20</th>\n",
       "      <td>20</td>\n",
       "      <td>1.212482</td>\n",
       "    </tr>\n",
       "    <tr>\n",
       "      <th>21</th>\n",
       "      <td>21</td>\n",
       "      <td>1.780084</td>\n",
       "    </tr>\n",
       "    <tr>\n",
       "      <th>22</th>\n",
       "      <td>22</td>\n",
       "      <td>0.275822</td>\n",
       "    </tr>\n",
       "    <tr>\n",
       "      <th>23</th>\n",
       "      <td>23</td>\n",
       "      <td>1.239187</td>\n",
       "    </tr>\n",
       "    <tr>\n",
       "      <th>24</th>\n",
       "      <td>24</td>\n",
       "      <td>1.082759</td>\n",
       "    </tr>\n",
       "    <tr>\n",
       "      <th>25</th>\n",
       "      <td>25</td>\n",
       "      <td>0.000000</td>\n",
       "    </tr>\n",
       "    <tr>\n",
       "      <th>26</th>\n",
       "      <td>26</td>\n",
       "      <td>0.579254</td>\n",
       "    </tr>\n",
       "    <tr>\n",
       "      <th>27</th>\n",
       "      <td>27</td>\n",
       "      <td>0.291011</td>\n",
       "    </tr>\n",
       "    <tr>\n",
       "      <th>28</th>\n",
       "      <td>28</td>\n",
       "      <td>0.650377</td>\n",
       "    </tr>\n",
       "    <tr>\n",
       "      <th>29</th>\n",
       "      <td>29</td>\n",
       "      <td>0.628399</td>\n",
       "    </tr>\n",
       "    <tr>\n",
       "      <th>...</th>\n",
       "      <td>...</td>\n",
       "      <td>...</td>\n",
       "    </tr>\n",
       "    <tr>\n",
       "      <th>287556</th>\n",
       "      <td>287556</td>\n",
       "      <td>3.492595</td>\n",
       "    </tr>\n",
       "    <tr>\n",
       "      <th>287557</th>\n",
       "      <td>287557</td>\n",
       "      <td>4.679403</td>\n",
       "    </tr>\n",
       "    <tr>\n",
       "      <th>287558</th>\n",
       "      <td>287558</td>\n",
       "      <td>3.148394</td>\n",
       "    </tr>\n",
       "    <tr>\n",
       "      <th>287559</th>\n",
       "      <td>287559</td>\n",
       "      <td>2.608570</td>\n",
       "    </tr>\n",
       "    <tr>\n",
       "      <th>287560</th>\n",
       "      <td>287560</td>\n",
       "      <td>5.729413</td>\n",
       "    </tr>\n",
       "    <tr>\n",
       "      <th>287561</th>\n",
       "      <td>287561</td>\n",
       "      <td>2.795675</td>\n",
       "    </tr>\n",
       "    <tr>\n",
       "      <th>287562</th>\n",
       "      <td>287562</td>\n",
       "      <td>2.986894</td>\n",
       "    </tr>\n",
       "    <tr>\n",
       "      <th>287563</th>\n",
       "      <td>287563</td>\n",
       "      <td>6.103802</td>\n",
       "    </tr>\n",
       "    <tr>\n",
       "      <th>287564</th>\n",
       "      <td>287564</td>\n",
       "      <td>3.269619</td>\n",
       "    </tr>\n",
       "    <tr>\n",
       "      <th>287565</th>\n",
       "      <td>287565</td>\n",
       "      <td>2.233537</td>\n",
       "    </tr>\n",
       "    <tr>\n",
       "      <th>287566</th>\n",
       "      <td>287566</td>\n",
       "      <td>2.204037</td>\n",
       "    </tr>\n",
       "    <tr>\n",
       "      <th>287567</th>\n",
       "      <td>287567</td>\n",
       "      <td>1.170681</td>\n",
       "    </tr>\n",
       "    <tr>\n",
       "      <th>287568</th>\n",
       "      <td>287568</td>\n",
       "      <td>1.569583</td>\n",
       "    </tr>\n",
       "    <tr>\n",
       "      <th>287569</th>\n",
       "      <td>287569</td>\n",
       "      <td>4.225002</td>\n",
       "    </tr>\n",
       "    <tr>\n",
       "      <th>287570</th>\n",
       "      <td>287570</td>\n",
       "      <td>2.255236</td>\n",
       "    </tr>\n",
       "    <tr>\n",
       "      <th>287571</th>\n",
       "      <td>287571</td>\n",
       "      <td>1.011551</td>\n",
       "    </tr>\n",
       "    <tr>\n",
       "      <th>287572</th>\n",
       "      <td>287572</td>\n",
       "      <td>1.606004</td>\n",
       "    </tr>\n",
       "    <tr>\n",
       "      <th>287573</th>\n",
       "      <td>287573</td>\n",
       "      <td>4.399329</td>\n",
       "    </tr>\n",
       "    <tr>\n",
       "      <th>287574</th>\n",
       "      <td>287574</td>\n",
       "      <td>2.975317</td>\n",
       "    </tr>\n",
       "    <tr>\n",
       "      <th>287575</th>\n",
       "      <td>287575</td>\n",
       "      <td>6.709511</td>\n",
       "    </tr>\n",
       "    <tr>\n",
       "      <th>287576</th>\n",
       "      <td>287576</td>\n",
       "      <td>3.237743</td>\n",
       "    </tr>\n",
       "    <tr>\n",
       "      <th>287577</th>\n",
       "      <td>287577</td>\n",
       "      <td>3.511910</td>\n",
       "    </tr>\n",
       "    <tr>\n",
       "      <th>287578</th>\n",
       "      <td>287578</td>\n",
       "      <td>6.305421</td>\n",
       "    </tr>\n",
       "    <tr>\n",
       "      <th>287579</th>\n",
       "      <td>287579</td>\n",
       "      <td>3.911640</td>\n",
       "    </tr>\n",
       "    <tr>\n",
       "      <th>287580</th>\n",
       "      <td>287580</td>\n",
       "      <td>5.444334</td>\n",
       "    </tr>\n",
       "    <tr>\n",
       "      <th>287581</th>\n",
       "      <td>287581</td>\n",
       "      <td>3.966685</td>\n",
       "    </tr>\n",
       "    <tr>\n",
       "      <th>287582</th>\n",
       "      <td>287582</td>\n",
       "      <td>2.116941</td>\n",
       "    </tr>\n",
       "    <tr>\n",
       "      <th>287583</th>\n",
       "      <td>287583</td>\n",
       "      <td>4.204420</td>\n",
       "    </tr>\n",
       "    <tr>\n",
       "      <th>287584</th>\n",
       "      <td>287584</td>\n",
       "      <td>7.005607</td>\n",
       "    </tr>\n",
       "    <tr>\n",
       "      <th>287585</th>\n",
       "      <td>287585</td>\n",
       "      <td>2.518188</td>\n",
       "    </tr>\n",
       "  </tbody>\n",
       "</table>\n",
       "<p>287586 rows × 2 columns</p>\n",
       "</div>"
      ],
      "text/plain": [
       "            ID    WEIGHT\n",
       "0            0  0.824355\n",
       "1            1  0.798398\n",
       "2            2  0.814209\n",
       "3            3  1.354746\n",
       "4            4  1.205015\n",
       "5            5  1.072101\n",
       "6            6  0.670482\n",
       "7            7  1.244788\n",
       "8            8  1.149064\n",
       "9            9  1.696344\n",
       "10          10  0.580382\n",
       "11          11  1.312196\n",
       "12          12  0.731246\n",
       "13          13  1.258566\n",
       "14          14  0.782353\n",
       "15          15  0.158874\n",
       "16          16  0.753742\n",
       "17          17  0.550804\n",
       "18          18  0.385269\n",
       "19          19  2.168831\n",
       "20          20  1.212482\n",
       "21          21  1.780084\n",
       "22          22  0.275822\n",
       "23          23  1.239187\n",
       "24          24  1.082759\n",
       "25          25  0.000000\n",
       "26          26  0.579254\n",
       "27          27  0.291011\n",
       "28          28  0.650377\n",
       "29          29  0.628399\n",
       "...        ...       ...\n",
       "287556  287556  3.492595\n",
       "287557  287557  4.679403\n",
       "287558  287558  3.148394\n",
       "287559  287559  2.608570\n",
       "287560  287560  5.729413\n",
       "287561  287561  2.795675\n",
       "287562  287562  2.986894\n",
       "287563  287563  6.103802\n",
       "287564  287564  3.269619\n",
       "287565  287565  2.233537\n",
       "287566  287566  2.204037\n",
       "287567  287567  1.170681\n",
       "287568  287568  1.569583\n",
       "287569  287569  4.225002\n",
       "287570  287570  2.255236\n",
       "287571  287571  1.011551\n",
       "287572  287572  1.606004\n",
       "287573  287573  4.399329\n",
       "287574  287574  2.975317\n",
       "287575  287575  6.709511\n",
       "287576  287576  3.237743\n",
       "287577  287577  3.511910\n",
       "287578  287578  6.305421\n",
       "287579  287579  3.911640\n",
       "287580  287580  5.444334\n",
       "287581  287581  3.966685\n",
       "287582  287582  2.116941\n",
       "287583  287583  4.204420\n",
       "287584  287584  7.005607\n",
       "287585  287585  2.518188\n",
       "\n",
       "[287586 rows x 2 columns]"
      ]
     },
     "execution_count": 13,
     "metadata": {},
     "output_type": "execute_result"
    }
   ],
   "source": [
    "weight_df = pd.DataFrame(data = temp,   columns=[\"ID\", \"WEIGHT\"])\n",
    "weight_df"
   ]
  },
  {
   "cell_type": "code",
   "execution_count": 14,
   "metadata": {
    "collapsed": true
   },
   "outputs": [],
   "source": [
    "weight_df.to_csv(\"./train/weight_train.csv\", index=False)"
   ]
  },
  {
   "cell_type": "code",
   "execution_count": 16,
   "metadata": {
    "collapsed": false
   },
   "outputs": [
    {
     "data": {
      "text/plain": [
       "(287586, 2)"
      ]
     },
     "execution_count": 16,
     "metadata": {},
     "output_type": "execute_result"
    }
   ],
   "source": [
    "temp = pd.read_csv(\"./train/weight_train.csv\")\n",
    "temp.shape"
   ]
  }
 ],
 "metadata": {
  "kernelspec": {
   "display_name": "Python 2",
   "language": "python",
   "name": "python2"
  },
  "language_info": {
   "codemirror_mode": {
    "name": "ipython",
    "version": 2
   },
   "file_extension": ".py",
   "mimetype": "text/x-python",
   "name": "python",
   "nbconvert_exporter": "python",
   "pygments_lexer": "ipython2",
   "version": "2.7.11"
  }
 },
 "nbformat": 4,
 "nbformat_minor": 0
}
