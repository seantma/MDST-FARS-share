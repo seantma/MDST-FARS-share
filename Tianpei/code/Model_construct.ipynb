{
 "cells": [
  {
   "cell_type": "markdown",
   "metadata": {},
   "source": [
    "# Learning XGBoost model"
   ]
  },
  {
   "cell_type": "code",
   "execution_count": 1,
   "metadata": {
    "collapsed": false,
    "scrolled": true
   },
   "outputs": [
    {
     "name": "stdout",
     "output_type": "stream",
     "text": [
      "Once deleted, variables cannot be recovered. Proceed (y/[n])? \n",
      "Nothing done.\n"
     ]
    }
   ],
   "source": [
    "%reset \n",
    "%matplotlib inline\n",
    "import os\n",
    "import pandas as pd\n",
    "import numpy as np\n",
    "import matplotlib.pyplot as plt\n",
    "import seaborn as sns\n",
    "import sqlite3\n",
    "import xgboost as xgb\n",
    "from numpy import nan as NA\n",
    "from sklearn.cross_validation import train_test_split\n",
    "from sklearn.metrics import roc_auc_score as auc"
   ]
  },
  {
   "cell_type": "markdown",
   "metadata": {},
   "source": [
    "# Load from accident data and predict on it\n",
    "\n",
    "Load the accident data from disk, feed into a xgboost model"
   ]
  },
  {
   "cell_type": "code",
   "execution_count": 2,
   "metadata": {
    "collapsed": true
   },
   "outputs": [],
   "source": [
    "nbatch = 10000"
   ]
  },
  {
   "cell_type": "markdown",
   "metadata": {},
   "source": [
    "### Read files and split for validation"
   ]
  },
  {
   "cell_type": "code",
   "execution_count": 3,
   "metadata": {
    "collapsed": false
   },
   "outputs": [],
   "source": [
    "label_file = pd.read_csv(\"./train/labels_ext.csv\", index_col=0)\n",
    "y = label_file['DRUNK_DR'].apply(lambda x: x*1 ).values"
   ]
  },
  {
   "cell_type": "code",
   "execution_count": 4,
   "metadata": {
    "collapsed": false
   },
   "outputs": [
    {
     "data": {
      "text/plain": [
       "numpy.ndarray"
      ]
     },
     "execution_count": 4,
     "metadata": {},
     "output_type": "execute_result"
    }
   ],
   "source": [
    "type(y)"
   ]
  },
  {
   "cell_type": "code",
   "execution_count": 5,
   "metadata": {
    "collapsed": true
   },
   "outputs": [],
   "source": [
    "Xtrain = pd.read_csv(\"./train/accident_train_ext.csv\", index_col=0)"
   ]
  },
  {
   "cell_type": "code",
   "execution_count": 6,
   "metadata": {
    "collapsed": false
   },
   "outputs": [],
   "source": [
    "n_train, n_dim = Xtrain.shape"
   ]
  },
  {
   "cell_type": "markdown",
   "metadata": {},
   "source": [
    "Drop ID"
   ]
  },
  {
   "cell_type": "code",
   "execution_count": 7,
   "metadata": {
    "collapsed": false
   },
   "outputs": [
    {
     "name": "stdout",
     "output_type": "stream",
     "text": [
      "Splitting data\n"
     ]
    }
   ],
   "source": [
    "Xtrain.drop('ID', axis= 1, inplace=True)\n",
    "print(\"Splitting data\")"
   ]
  },
  {
   "cell_type": "code",
   "execution_count": 8,
   "metadata": {
    "collapsed": false
   },
   "outputs": [],
   "source": [
    "Xtrain_c, Xeval, Ytrain_c, Yeval = train_test_split(Xtrain.values, y, test_size = 0.3)"
   ]
  },
  {
   "cell_type": "markdown",
   "metadata": {},
   "source": [
    "### Load data into sparse matrix "
   ]
  },
  {
   "cell_type": "code",
   "execution_count": 9,
   "metadata": {
    "collapsed": false
   },
   "outputs": [
    {
     "name": "stdout",
     "output_type": "stream",
     "text": [
      "Load data into sparse matrix\n"
     ]
    }
   ],
   "source": [
    "print(\"Load data into sparse matrix\")"
   ]
  },
  {
   "cell_type": "code",
   "execution_count": 10,
   "metadata": {
    "collapsed": false
   },
   "outputs": [
    {
     "name": "stdout",
     "output_type": "stream",
     "text": [
      "Specifying the parameters ... \n"
     ]
    }
   ],
   "source": [
    "dtrain = xgb.DMatrix(data=Xtrain_c, missing = NA, label= Ytrain_c)\n",
    "deval  = xgb.DMatrix(data=Xeval, missing = NA, label = Yeval)\n",
    "print(\"Specifying the parameters ... \")"
   ]
  },
  {
   "cell_type": "code",
   "execution_count": 11,
   "metadata": {
    "collapsed": true
   },
   "outputs": [],
   "source": [
    "param = {'max_depth': 12,\n",
    "         'eta': 0.02,\n",
    "         'subsample': 0.7,\n",
    "         'colsample_bytree': 0.8,\n",
    "         'silent': 0,\n",
    "         'eval_metric': 'auc',\n",
    "         'alpha': 0,\n",
    "         'lambda': 1,\n",
    "         'nthread': 8,\n",
    "         'objective': 'binary:logistic'}"
   ]
  },
  {
   "cell_type": "markdown",
   "metadata": {},
   "source": [
    "Set the validations set to watch performance "
   ]
  },
  {
   "cell_type": "code",
   "execution_count": 12,
   "metadata": {
    "collapsed": false
   },
   "outputs": [
    {
     "name": "stdout",
     "output_type": "stream",
     "text": [
      "Training ... \n"
     ]
    }
   ],
   "source": [
    "watchlist = [(deval, 'eval'), (dtrain, 'train')]\n",
    "num_round = 510\n",
    "print(\"Training ... \")"
   ]
  },
  {
   "cell_type": "code",
   "execution_count": 13,
   "metadata": {
    "collapsed": false
   },
   "outputs": [
    {
     "name": "stderr",
     "output_type": "stream",
     "text": [
      "[0]\teval-auc:0.802269\ttrain-auc:0.827405\n",
      "[1]\teval-auc:0.809492\ttrain-auc:0.835327\n",
      "[2]\teval-auc:0.812261\ttrain-auc:0.838463\n",
      "[3]\teval-auc:0.813512\ttrain-auc:0.839555\n",
      "[4]\teval-auc:0.814739\ttrain-auc:0.840630\n",
      "[5]\teval-auc:0.815981\ttrain-auc:0.842728\n",
      "[6]\teval-auc:0.816512\ttrain-auc:0.843284\n",
      "[7]\teval-auc:0.816645\ttrain-auc:0.843980\n",
      "[8]\teval-auc:0.817006\ttrain-auc:0.844120\n",
      "[9]\teval-auc:0.817328\ttrain-auc:0.844013\n",
      "[10]\teval-auc:0.817643\ttrain-auc:0.844551\n",
      "[11]\teval-auc:0.817906\ttrain-auc:0.845552\n",
      "[12]\teval-auc:0.818138\ttrain-auc:0.846342\n",
      "[13]\teval-auc:0.818407\ttrain-auc:0.846722\n",
      "[14]\teval-auc:0.818616\ttrain-auc:0.846811\n",
      "[15]\teval-auc:0.818596\ttrain-auc:0.846873\n",
      "[16]\teval-auc:0.818723\ttrain-auc:0.847391\n",
      "[17]\teval-auc:0.818756\ttrain-auc:0.847749\n",
      "[18]\teval-auc:0.818880\ttrain-auc:0.847970\n",
      "[19]\teval-auc:0.818961\ttrain-auc:0.848588\n",
      "[20]\teval-auc:0.818986\ttrain-auc:0.848838\n",
      "[21]\teval-auc:0.819096\ttrain-auc:0.849111\n",
      "[22]\teval-auc:0.819096\ttrain-auc:0.849266\n",
      "[23]\teval-auc:0.819173\ttrain-auc:0.849556\n",
      "[24]\teval-auc:0.819271\ttrain-auc:0.849700\n",
      "[25]\teval-auc:0.819293\ttrain-auc:0.849869\n",
      "[26]\teval-auc:0.819340\ttrain-auc:0.850187\n",
      "[27]\teval-auc:0.819408\ttrain-auc:0.850495\n",
      "[28]\teval-auc:0.819444\ttrain-auc:0.850811\n",
      "[29]\teval-auc:0.819434\ttrain-auc:0.851103\n",
      "[30]\teval-auc:0.819526\ttrain-auc:0.851528\n",
      "[31]\teval-auc:0.819606\ttrain-auc:0.851766\n",
      "[32]\teval-auc:0.819698\ttrain-auc:0.851978\n",
      "[33]\teval-auc:0.819774\ttrain-auc:0.852155\n",
      "[34]\teval-auc:0.819788\ttrain-auc:0.852397\n",
      "[35]\teval-auc:0.819826\ttrain-auc:0.852792\n",
      "[36]\teval-auc:0.819845\ttrain-auc:0.852851\n",
      "[37]\teval-auc:0.819887\ttrain-auc:0.853155\n",
      "[38]\teval-auc:0.819948\ttrain-auc:0.853678\n",
      "[39]\teval-auc:0.820004\ttrain-auc:0.854068\n",
      "[40]\teval-auc:0.820022\ttrain-auc:0.854387\n",
      "[41]\teval-auc:0.820037\ttrain-auc:0.854587\n",
      "[42]\teval-auc:0.820039\ttrain-auc:0.854891\n",
      "[43]\teval-auc:0.820097\ttrain-auc:0.855229\n",
      "[44]\teval-auc:0.820103\ttrain-auc:0.855363\n",
      "[45]\teval-auc:0.820109\ttrain-auc:0.855637\n",
      "[46]\teval-auc:0.820145\ttrain-auc:0.855872\n",
      "[47]\teval-auc:0.820114\ttrain-auc:0.856164\n",
      "[48]\teval-auc:0.820129\ttrain-auc:0.856493\n",
      "[49]\teval-auc:0.820172\ttrain-auc:0.856685\n",
      "[50]\teval-auc:0.820196\ttrain-auc:0.857026\n",
      "[51]\teval-auc:0.820252\ttrain-auc:0.857275\n",
      "[52]\teval-auc:0.820288\ttrain-auc:0.857386\n",
      "[53]\teval-auc:0.820327\ttrain-auc:0.857770\n",
      "[54]\teval-auc:0.820344\ttrain-auc:0.858096\n",
      "[55]\teval-auc:0.820371\ttrain-auc:0.858357\n",
      "[56]\teval-auc:0.820403\ttrain-auc:0.858543\n",
      "[57]\teval-auc:0.820386\ttrain-auc:0.858815\n",
      "[58]\teval-auc:0.820393\ttrain-auc:0.859059\n",
      "[59]\teval-auc:0.820411\ttrain-auc:0.859430\n",
      "[60]\teval-auc:0.820463\ttrain-auc:0.859689\n",
      "[61]\teval-auc:0.820476\ttrain-auc:0.859746\n",
      "[62]\teval-auc:0.820502\ttrain-auc:0.859857\n",
      "[63]\teval-auc:0.820523\ttrain-auc:0.860219\n",
      "[64]\teval-auc:0.820603\ttrain-auc:0.860510\n",
      "[65]\teval-auc:0.820666\ttrain-auc:0.860727\n",
      "[66]\teval-auc:0.820670\ttrain-auc:0.860919\n",
      "[67]\teval-auc:0.820727\ttrain-auc:0.861119\n",
      "[68]\teval-auc:0.820728\ttrain-auc:0.861335\n",
      "[69]\teval-auc:0.820752\ttrain-auc:0.861733\n",
      "[70]\teval-auc:0.820816\ttrain-auc:0.862058\n",
      "[71]\teval-auc:0.820858\ttrain-auc:0.862323\n",
      "[72]\teval-auc:0.820873\ttrain-auc:0.862536\n",
      "[73]\teval-auc:0.820857\ttrain-auc:0.862698\n",
      "[74]\teval-auc:0.820889\ttrain-auc:0.862860\n",
      "[75]\teval-auc:0.820876\ttrain-auc:0.863037\n",
      "[76]\teval-auc:0.820890\ttrain-auc:0.863284\n",
      "[77]\teval-auc:0.820913\ttrain-auc:0.863538\n",
      "[78]\teval-auc:0.820952\ttrain-auc:0.863765\n",
      "[79]\teval-auc:0.820985\ttrain-auc:0.863952\n",
      "[80]\teval-auc:0.821003\ttrain-auc:0.864117\n",
      "[81]\teval-auc:0.821043\ttrain-auc:0.864385\n",
      "[82]\teval-auc:0.821103\ttrain-auc:0.864617\n",
      "[83]\teval-auc:0.821117\ttrain-auc:0.864838\n",
      "[84]\teval-auc:0.821159\ttrain-auc:0.865072\n",
      "[85]\teval-auc:0.821172\ttrain-auc:0.865299\n",
      "[86]\teval-auc:0.821204\ttrain-auc:0.865550\n",
      "[87]\teval-auc:0.821229\ttrain-auc:0.865792\n",
      "[88]\teval-auc:0.821275\ttrain-auc:0.866022\n",
      "[89]\teval-auc:0.821290\ttrain-auc:0.866254\n",
      "[90]\teval-auc:0.821329\ttrain-auc:0.866582\n",
      "[91]\teval-auc:0.821355\ttrain-auc:0.866809\n",
      "[92]\teval-auc:0.821413\ttrain-auc:0.866993\n",
      "[93]\teval-auc:0.821413\ttrain-auc:0.867239\n",
      "[94]\teval-auc:0.821418\ttrain-auc:0.867489\n",
      "[95]\teval-auc:0.821447\ttrain-auc:0.867701\n",
      "[96]\teval-auc:0.821438\ttrain-auc:0.867911\n",
      "[97]\teval-auc:0.821476\ttrain-auc:0.868078\n",
      "[98]\teval-auc:0.821472\ttrain-auc:0.868361\n",
      "[99]\teval-auc:0.821485\ttrain-auc:0.868446\n",
      "[100]\teval-auc:0.821514\ttrain-auc:0.868609\n",
      "[101]\teval-auc:0.821522\ttrain-auc:0.868856\n",
      "[102]\teval-auc:0.821526\ttrain-auc:0.869108\n",
      "[103]\teval-auc:0.821571\ttrain-auc:0.869410\n",
      "[104]\teval-auc:0.821571\ttrain-auc:0.869653\n",
      "[105]\teval-auc:0.821588\ttrain-auc:0.869815\n",
      "[106]\teval-auc:0.821639\ttrain-auc:0.870112\n",
      "[107]\teval-auc:0.821657\ttrain-auc:0.870250\n",
      "[108]\teval-auc:0.821709\ttrain-auc:0.870469\n",
      "[109]\teval-auc:0.821709\ttrain-auc:0.870643\n",
      "[110]\teval-auc:0.821720\ttrain-auc:0.870786\n",
      "[111]\teval-auc:0.821744\ttrain-auc:0.871052\n",
      "[112]\teval-auc:0.821782\ttrain-auc:0.871251\n",
      "[113]\teval-auc:0.821812\ttrain-auc:0.871520\n",
      "[114]\teval-auc:0.821826\ttrain-auc:0.871730\n",
      "[115]\teval-auc:0.821852\ttrain-auc:0.871956\n",
      "[116]\teval-auc:0.821881\ttrain-auc:0.872165\n",
      "[117]\teval-auc:0.821908\ttrain-auc:0.872367\n",
      "[118]\teval-auc:0.821951\ttrain-auc:0.872675\n",
      "[119]\teval-auc:0.821944\ttrain-auc:0.872957\n",
      "[120]\teval-auc:0.821975\ttrain-auc:0.873113\n",
      "[121]\teval-auc:0.821987\ttrain-auc:0.873282\n",
      "[122]\teval-auc:0.821972\ttrain-auc:0.873463\n",
      "[123]\teval-auc:0.822001\ttrain-auc:0.873762\n",
      "[124]\teval-auc:0.822010\ttrain-auc:0.874006\n",
      "[125]\teval-auc:0.822037\ttrain-auc:0.874251\n",
      "[126]\teval-auc:0.822047\ttrain-auc:0.874440\n",
      "[127]\teval-auc:0.822070\ttrain-auc:0.874669\n",
      "[128]\teval-auc:0.822059\ttrain-auc:0.874898\n",
      "[129]\teval-auc:0.822076\ttrain-auc:0.875026\n",
      "[130]\teval-auc:0.822115\ttrain-auc:0.875290\n",
      "[131]\teval-auc:0.822123\ttrain-auc:0.875417\n",
      "[132]\teval-auc:0.822132\ttrain-auc:0.875648\n",
      "[133]\teval-auc:0.822131\ttrain-auc:0.875886\n",
      "[134]\teval-auc:0.822162\ttrain-auc:0.876061\n",
      "[135]\teval-auc:0.822200\ttrain-auc:0.876307\n",
      "[136]\teval-auc:0.822238\ttrain-auc:0.876588\n",
      "[137]\teval-auc:0.822245\ttrain-auc:0.876801\n",
      "[138]\teval-auc:0.822274\ttrain-auc:0.877034\n",
      "[139]\teval-auc:0.822275\ttrain-auc:0.877293\n",
      "[140]\teval-auc:0.822285\ttrain-auc:0.877487\n",
      "[141]\teval-auc:0.822310\ttrain-auc:0.877697\n",
      "[142]\teval-auc:0.822337\ttrain-auc:0.877889\n",
      "[143]\teval-auc:0.822377\ttrain-auc:0.878125\n",
      "[144]\teval-auc:0.822398\ttrain-auc:0.878337\n",
      "[145]\teval-auc:0.822398\ttrain-auc:0.878534\n",
      "[146]\teval-auc:0.822427\ttrain-auc:0.878687\n",
      "[147]\teval-auc:0.822467\ttrain-auc:0.878922\n",
      "[148]\teval-auc:0.822480\ttrain-auc:0.879139\n",
      "[149]\teval-auc:0.822514\ttrain-auc:0.879375\n",
      "[150]\teval-auc:0.822550\ttrain-auc:0.879545\n",
      "[151]\teval-auc:0.822556\ttrain-auc:0.879686\n",
      "[152]\teval-auc:0.822590\ttrain-auc:0.879878\n",
      "[153]\teval-auc:0.822625\ttrain-auc:0.880108\n",
      "[154]\teval-auc:0.822641\ttrain-auc:0.880238\n",
      "[155]\teval-auc:0.822668\ttrain-auc:0.880440\n",
      "[156]\teval-auc:0.822696\ttrain-auc:0.880674\n",
      "[157]\teval-auc:0.822710\ttrain-auc:0.880841\n",
      "[158]\teval-auc:0.822720\ttrain-auc:0.880996\n",
      "[159]\teval-auc:0.822732\ttrain-auc:0.881180\n",
      "[160]\teval-auc:0.822755\ttrain-auc:0.881402\n",
      "[161]\teval-auc:0.822756\ttrain-auc:0.881534\n",
      "[162]\teval-auc:0.822756\ttrain-auc:0.881685\n",
      "[163]\teval-auc:0.822767\ttrain-auc:0.881844\n",
      "[164]\teval-auc:0.822762\ttrain-auc:0.882018\n",
      "[165]\teval-auc:0.822767\ttrain-auc:0.882211\n",
      "[166]\teval-auc:0.822803\ttrain-auc:0.882366\n",
      "[167]\teval-auc:0.822821\ttrain-auc:0.882527\n",
      "[168]\teval-auc:0.822844\ttrain-auc:0.882706\n",
      "[169]\teval-auc:0.822845\ttrain-auc:0.882867\n",
      "[170]\teval-auc:0.822868\ttrain-auc:0.882992\n",
      "[171]\teval-auc:0.822869\ttrain-auc:0.883098\n",
      "[172]\teval-auc:0.822877\ttrain-auc:0.883251\n",
      "[173]\teval-auc:0.822906\ttrain-auc:0.883418\n",
      "[174]\teval-auc:0.822944\ttrain-auc:0.883624\n",
      "[175]\teval-auc:0.822966\ttrain-auc:0.883787\n",
      "[176]\teval-auc:0.822982\ttrain-auc:0.883967\n",
      "[177]\teval-auc:0.823006\ttrain-auc:0.884200\n",
      "[178]\teval-auc:0.823005\ttrain-auc:0.884315\n",
      "[179]\teval-auc:0.823008\ttrain-auc:0.884410\n",
      "[180]\teval-auc:0.823014\ttrain-auc:0.884575\n",
      "[181]\teval-auc:0.823027\ttrain-auc:0.884706\n",
      "[182]\teval-auc:0.823045\ttrain-auc:0.884920\n",
      "[183]\teval-auc:0.823063\ttrain-auc:0.885076\n",
      "[184]\teval-auc:0.823073\ttrain-auc:0.885257\n",
      "[185]\teval-auc:0.823096\ttrain-auc:0.885387\n",
      "[186]\teval-auc:0.823134\ttrain-auc:0.885627\n",
      "[187]\teval-auc:0.823167\ttrain-auc:0.885801\n",
      "[188]\teval-auc:0.823195\ttrain-auc:0.885979\n",
      "[189]\teval-auc:0.823213\ttrain-auc:0.886138\n",
      "[190]\teval-auc:0.823222\ttrain-auc:0.886338\n",
      "[191]\teval-auc:0.823230\ttrain-auc:0.886519\n",
      "[192]\teval-auc:0.823241\ttrain-auc:0.886665\n",
      "[193]\teval-auc:0.823282\ttrain-auc:0.886830\n",
      "[194]\teval-auc:0.823293\ttrain-auc:0.886974\n",
      "[195]\teval-auc:0.823314\ttrain-auc:0.887119\n",
      "[196]\teval-auc:0.823332\ttrain-auc:0.887279\n",
      "[197]\teval-auc:0.823354\ttrain-auc:0.887429\n",
      "[198]\teval-auc:0.823365\ttrain-auc:0.887595\n",
      "[199]\teval-auc:0.823375\ttrain-auc:0.887706\n",
      "[200]\teval-auc:0.823394\ttrain-auc:0.887880\n",
      "[201]\teval-auc:0.823404\ttrain-auc:0.888072\n",
      "[202]\teval-auc:0.823415\ttrain-auc:0.888170\n",
      "[203]\teval-auc:0.823431\ttrain-auc:0.888304\n",
      "[204]\teval-auc:0.823437\ttrain-auc:0.888446\n",
      "[205]\teval-auc:0.823454\ttrain-auc:0.888570\n",
      "[206]\teval-auc:0.823463\ttrain-auc:0.888712\n",
      "[207]\teval-auc:0.823484\ttrain-auc:0.888847\n",
      "[208]\teval-auc:0.823496\ttrain-auc:0.888943\n",
      "[209]\teval-auc:0.823536\ttrain-auc:0.889183\n",
      "[210]\teval-auc:0.823544\ttrain-auc:0.889315\n",
      "[211]\teval-auc:0.823551\ttrain-auc:0.889358\n",
      "[212]\teval-auc:0.823558\ttrain-auc:0.889481\n",
      "[213]\teval-auc:0.823574\ttrain-auc:0.889620\n",
      "[214]\teval-auc:0.823583\ttrain-auc:0.889727\n",
      "[215]\teval-auc:0.823605\ttrain-auc:0.889831\n",
      "[216]\teval-auc:0.823636\ttrain-auc:0.889992\n",
      "[217]\teval-auc:0.823650\ttrain-auc:0.890137\n",
      "[218]\teval-auc:0.823683\ttrain-auc:0.890331\n",
      "[219]\teval-auc:0.823706\ttrain-auc:0.890451\n",
      "[220]\teval-auc:0.823712\ttrain-auc:0.890635\n",
      "[221]\teval-auc:0.823736\ttrain-auc:0.890853\n",
      "[222]\teval-auc:0.823750\ttrain-auc:0.891059\n",
      "[223]\teval-auc:0.823755\ttrain-auc:0.891183\n",
      "[224]\teval-auc:0.823768\ttrain-auc:0.891327\n",
      "[225]\teval-auc:0.823785\ttrain-auc:0.891489\n",
      "[226]\teval-auc:0.823787\ttrain-auc:0.891583\n",
      "[227]\teval-auc:0.823808\ttrain-auc:0.891704\n",
      "[228]\teval-auc:0.823827\ttrain-auc:0.891753\n",
      "[229]\teval-auc:0.823829\ttrain-auc:0.891875\n",
      "[230]\teval-auc:0.823849\ttrain-auc:0.892088\n",
      "[231]\teval-auc:0.823872\ttrain-auc:0.892214\n",
      "[232]\teval-auc:0.823904\ttrain-auc:0.892386\n",
      "[233]\teval-auc:0.823921\ttrain-auc:0.892521\n",
      "[234]\teval-auc:0.823942\ttrain-auc:0.892666\n",
      "[235]\teval-auc:0.823955\ttrain-auc:0.892721\n",
      "[236]\teval-auc:0.823991\ttrain-auc:0.892823\n",
      "[237]\teval-auc:0.824015\ttrain-auc:0.893022\n",
      "[238]\teval-auc:0.824029\ttrain-auc:0.893117\n",
      "[239]\teval-auc:0.824041\ttrain-auc:0.893256\n",
      "[240]\teval-auc:0.824047\ttrain-auc:0.893385\n",
      "[241]\teval-auc:0.824063\ttrain-auc:0.893607\n",
      "[242]\teval-auc:0.824078\ttrain-auc:0.893650\n",
      "[243]\teval-auc:0.824087\ttrain-auc:0.893783\n",
      "[244]\teval-auc:0.824099\ttrain-auc:0.893940\n",
      "[245]\teval-auc:0.824103\ttrain-auc:0.894022\n",
      "[246]\teval-auc:0.824107\ttrain-auc:0.894154\n",
      "[247]\teval-auc:0.824164\ttrain-auc:0.894481\n",
      "[248]\teval-auc:0.824186\ttrain-auc:0.894597\n",
      "[249]\teval-auc:0.824191\ttrain-auc:0.894707\n",
      "[250]\teval-auc:0.824189\ttrain-auc:0.894827\n",
      "[251]\teval-auc:0.824204\ttrain-auc:0.894894\n",
      "[252]\teval-auc:0.824213\ttrain-auc:0.894989\n",
      "[253]\teval-auc:0.824251\ttrain-auc:0.895171\n",
      "[254]\teval-auc:0.824259\ttrain-auc:0.895272\n",
      "[255]\teval-auc:0.824271\ttrain-auc:0.895354\n",
      "[256]\teval-auc:0.824286\ttrain-auc:0.895469\n",
      "[257]\teval-auc:0.824303\ttrain-auc:0.895548\n",
      "[258]\teval-auc:0.824309\ttrain-auc:0.895675\n",
      "[259]\teval-auc:0.824320\ttrain-auc:0.895835\n",
      "[260]\teval-auc:0.824322\ttrain-auc:0.895884\n",
      "[261]\teval-auc:0.824332\ttrain-auc:0.895956\n",
      "[262]\teval-auc:0.824340\ttrain-auc:0.896016\n",
      "[263]\teval-auc:0.824330\ttrain-auc:0.896122\n",
      "[264]\teval-auc:0.824339\ttrain-auc:0.896241\n",
      "[265]\teval-auc:0.824340\ttrain-auc:0.896395\n",
      "[266]\teval-auc:0.824337\ttrain-auc:0.896461\n",
      "[267]\teval-auc:0.824351\ttrain-auc:0.896585\n",
      "[268]\teval-auc:0.824351\ttrain-auc:0.896702\n",
      "[269]\teval-auc:0.824351\ttrain-auc:0.896834\n",
      "[270]\teval-auc:0.824356\ttrain-auc:0.896871\n",
      "[271]\teval-auc:0.824386\ttrain-auc:0.897117\n",
      "[272]\teval-auc:0.824389\ttrain-auc:0.897197\n",
      "[273]\teval-auc:0.824391\ttrain-auc:0.897333\n",
      "[274]\teval-auc:0.824394\ttrain-auc:0.897451\n",
      "[275]\teval-auc:0.824396\ttrain-auc:0.897538\n",
      "[276]\teval-auc:0.824398\ttrain-auc:0.897653\n",
      "[277]\teval-auc:0.824397\ttrain-auc:0.897770\n",
      "[278]\teval-auc:0.824397\ttrain-auc:0.897886\n",
      "[279]\teval-auc:0.824393\ttrain-auc:0.897998\n",
      "[280]\teval-auc:0.824398\ttrain-auc:0.898102\n",
      "[281]\teval-auc:0.824434\ttrain-auc:0.898262\n",
      "[282]\teval-auc:0.824426\ttrain-auc:0.898392\n",
      "[283]\teval-auc:0.824426\ttrain-auc:0.898509\n",
      "[284]\teval-auc:0.824424\ttrain-auc:0.898611\n",
      "[285]\teval-auc:0.824454\ttrain-auc:0.898786\n",
      "[286]\teval-auc:0.824461\ttrain-auc:0.898893\n",
      "[287]\teval-auc:0.824459\ttrain-auc:0.898984\n",
      "[288]\teval-auc:0.824467\ttrain-auc:0.899025\n",
      "[289]\teval-auc:0.824480\ttrain-auc:0.899162\n",
      "[290]\teval-auc:0.824486\ttrain-auc:0.899319\n",
      "[291]\teval-auc:0.824518\ttrain-auc:0.899486\n",
      "[292]\teval-auc:0.824521\ttrain-auc:0.899547\n",
      "[293]\teval-auc:0.824536\ttrain-auc:0.899635\n",
      "[294]\teval-auc:0.824543\ttrain-auc:0.899760\n",
      "[295]\teval-auc:0.824554\ttrain-auc:0.899843\n",
      "[296]\teval-auc:0.824569\ttrain-auc:0.899925\n",
      "[297]\teval-auc:0.824576\ttrain-auc:0.900017\n",
      "[298]\teval-auc:0.824578\ttrain-auc:0.900118\n",
      "[299]\teval-auc:0.824599\ttrain-auc:0.900331\n",
      "[300]\teval-auc:0.824593\ttrain-auc:0.900458\n",
      "[301]\teval-auc:0.824595\ttrain-auc:0.900643\n",
      "[302]\teval-auc:0.824606\ttrain-auc:0.900813\n",
      "[303]\teval-auc:0.824611\ttrain-auc:0.900880\n",
      "[304]\teval-auc:0.824618\ttrain-auc:0.900973\n",
      "[305]\teval-auc:0.824626\ttrain-auc:0.901111\n",
      "[306]\teval-auc:0.824638\ttrain-auc:0.901224\n",
      "[307]\teval-auc:0.824633\ttrain-auc:0.901320\n",
      "[308]\teval-auc:0.824635\ttrain-auc:0.901465\n",
      "[309]\teval-auc:0.824646\ttrain-auc:0.901619\n",
      "[310]\teval-auc:0.824646\ttrain-auc:0.901674\n",
      "[311]\teval-auc:0.824650\ttrain-auc:0.901771\n",
      "[312]\teval-auc:0.824661\ttrain-auc:0.901907\n",
      "[313]\teval-auc:0.824654\ttrain-auc:0.902004\n",
      "[314]\teval-auc:0.824653\ttrain-auc:0.902055\n",
      "[315]\teval-auc:0.824673\ttrain-auc:0.902241\n",
      "[316]\teval-auc:0.824679\ttrain-auc:0.902366\n",
      "[317]\teval-auc:0.824683\ttrain-auc:0.902465\n",
      "[318]\teval-auc:0.824682\ttrain-auc:0.902598\n",
      "[319]\teval-auc:0.824692\ttrain-auc:0.902740\n",
      "[320]\teval-auc:0.824701\ttrain-auc:0.902776\n",
      "[321]\teval-auc:0.824705\ttrain-auc:0.902830\n",
      "[322]\teval-auc:0.824712\ttrain-auc:0.902918\n",
      "[323]\teval-auc:0.824719\ttrain-auc:0.903052\n",
      "[324]\teval-auc:0.824732\ttrain-auc:0.903162\n",
      "[325]\teval-auc:0.824739\ttrain-auc:0.903312\n",
      "[326]\teval-auc:0.824735\ttrain-auc:0.903346\n",
      "[327]\teval-auc:0.824731\ttrain-auc:0.903415\n",
      "[328]\teval-auc:0.824732\ttrain-auc:0.903480\n",
      "[329]\teval-auc:0.824729\ttrain-auc:0.903617\n",
      "[330]\teval-auc:0.824730\ttrain-auc:0.903733\n",
      "[331]\teval-auc:0.824731\ttrain-auc:0.903853\n",
      "[332]\teval-auc:0.824728\ttrain-auc:0.903965\n",
      "[333]\teval-auc:0.824737\ttrain-auc:0.904025\n",
      "[334]\teval-auc:0.824768\ttrain-auc:0.904232\n",
      "[335]\teval-auc:0.824779\ttrain-auc:0.904346\n",
      "[336]\teval-auc:0.824780\ttrain-auc:0.904403\n",
      "[337]\teval-auc:0.824778\ttrain-auc:0.904490\n",
      "[338]\teval-auc:0.824779\ttrain-auc:0.904528\n",
      "[339]\teval-auc:0.824777\ttrain-auc:0.904622\n",
      "[340]\teval-auc:0.824798\ttrain-auc:0.904760\n",
      "[341]\teval-auc:0.824793\ttrain-auc:0.904864\n",
      "[342]\teval-auc:0.824797\ttrain-auc:0.904939\n",
      "[343]\teval-auc:0.824799\ttrain-auc:0.905010\n",
      "[344]\teval-auc:0.824806\ttrain-auc:0.905061\n",
      "[345]\teval-auc:0.824809\ttrain-auc:0.905205\n",
      "[346]\teval-auc:0.824813\ttrain-auc:0.905281\n",
      "[347]\teval-auc:0.824817\ttrain-auc:0.905334\n",
      "[348]\teval-auc:0.824824\ttrain-auc:0.905458\n",
      "[349]\teval-auc:0.824822\ttrain-auc:0.905556\n",
      "[350]\teval-auc:0.824820\ttrain-auc:0.905650\n",
      "[351]\teval-auc:0.824839\ttrain-auc:0.905829\n",
      "[352]\teval-auc:0.824845\ttrain-auc:0.905883\n",
      "[353]\teval-auc:0.824844\ttrain-auc:0.905964\n",
      "[354]\teval-auc:0.824850\ttrain-auc:0.906039\n",
      "[355]\teval-auc:0.824847\ttrain-auc:0.906126\n",
      "[356]\teval-auc:0.824849\ttrain-auc:0.906159\n",
      "[357]\teval-auc:0.824851\ttrain-auc:0.906203\n",
      "[358]\teval-auc:0.824856\ttrain-auc:0.906254\n",
      "[359]\teval-auc:0.824862\ttrain-auc:0.906311\n",
      "[360]\teval-auc:0.824868\ttrain-auc:0.906415\n",
      "[361]\teval-auc:0.824853\ttrain-auc:0.906453\n",
      "[362]\teval-auc:0.824856\ttrain-auc:0.906515\n",
      "[363]\teval-auc:0.824856\ttrain-auc:0.906592\n",
      "[364]\teval-auc:0.824855\ttrain-auc:0.906645\n",
      "[365]\teval-auc:0.824854\ttrain-auc:0.906757\n",
      "[366]\teval-auc:0.824859\ttrain-auc:0.906893\n",
      "[367]\teval-auc:0.824861\ttrain-auc:0.907020\n",
      "[368]\teval-auc:0.824864\ttrain-auc:0.907099\n",
      "[369]\teval-auc:0.824867\ttrain-auc:0.907204\n",
      "[370]\teval-auc:0.824873\ttrain-auc:0.907281\n",
      "[371]\teval-auc:0.824871\ttrain-auc:0.907349\n",
      "[372]\teval-auc:0.824869\ttrain-auc:0.907436\n",
      "[373]\teval-auc:0.824871\ttrain-auc:0.907520\n",
      "[374]\teval-auc:0.824872\ttrain-auc:0.907564\n",
      "[375]\teval-auc:0.824885\ttrain-auc:0.907639\n",
      "[376]\teval-auc:0.824887\ttrain-auc:0.907705\n",
      "[377]\teval-auc:0.824893\ttrain-auc:0.907799\n",
      "[378]\teval-auc:0.824898\ttrain-auc:0.907911\n",
      "[379]\teval-auc:0.824898\ttrain-auc:0.908047\n",
      "[380]\teval-auc:0.824908\ttrain-auc:0.908138\n",
      "[381]\teval-auc:0.824902\ttrain-auc:0.908221\n",
      "[382]\teval-auc:0.824912\ttrain-auc:0.908265\n",
      "[383]\teval-auc:0.824905\ttrain-auc:0.908346\n",
      "[384]\teval-auc:0.824903\ttrain-auc:0.908404\n",
      "[385]\teval-auc:0.824911\ttrain-auc:0.908429\n",
      "[386]\teval-auc:0.824915\ttrain-auc:0.908494\n",
      "[387]\teval-auc:0.824921\ttrain-auc:0.908653\n",
      "[388]\teval-auc:0.824918\ttrain-auc:0.908687\n",
      "[389]\teval-auc:0.824923\ttrain-auc:0.908820\n",
      "[390]\teval-auc:0.824929\ttrain-auc:0.908883\n",
      "[391]\teval-auc:0.824930\ttrain-auc:0.908957\n",
      "[392]\teval-auc:0.824929\ttrain-auc:0.909024\n",
      "[393]\teval-auc:0.824932\ttrain-auc:0.909064\n",
      "[394]\teval-auc:0.824942\ttrain-auc:0.909199\n",
      "[395]\teval-auc:0.824942\ttrain-auc:0.909274\n",
      "[396]\teval-auc:0.824940\ttrain-auc:0.909295\n",
      "[397]\teval-auc:0.824938\ttrain-auc:0.909313\n",
      "[398]\teval-auc:0.824936\ttrain-auc:0.909358\n",
      "[399]\teval-auc:0.824935\ttrain-auc:0.909388\n",
      "[400]\teval-auc:0.824934\ttrain-auc:0.909437\n",
      "[401]\teval-auc:0.824935\ttrain-auc:0.909483\n",
      "[402]\teval-auc:0.824936\ttrain-auc:0.909494\n",
      "[403]\teval-auc:0.824939\ttrain-auc:0.909525\n",
      "[404]\teval-auc:0.824941\ttrain-auc:0.909582\n",
      "[405]\teval-auc:0.824964\ttrain-auc:0.909680\n",
      "[406]\teval-auc:0.824975\ttrain-auc:0.909782\n",
      "[407]\teval-auc:0.824973\ttrain-auc:0.909883\n",
      "[408]\teval-auc:0.824972\ttrain-auc:0.909968\n",
      "[409]\teval-auc:0.824989\ttrain-auc:0.910084\n",
      "[410]\teval-auc:0.824984\ttrain-auc:0.910120\n",
      "[411]\teval-auc:0.824980\ttrain-auc:0.910211\n",
      "[412]\teval-auc:0.824980\ttrain-auc:0.910301\n",
      "[413]\teval-auc:0.824981\ttrain-auc:0.910349\n",
      "[414]\teval-auc:0.824983\ttrain-auc:0.910433\n",
      "[415]\teval-auc:0.824990\ttrain-auc:0.910511\n",
      "[416]\teval-auc:0.824982\ttrain-auc:0.910607\n",
      "[417]\teval-auc:0.824985\ttrain-auc:0.910659\n",
      "[418]\teval-auc:0.824979\ttrain-auc:0.910794\n",
      "[419]\teval-auc:0.824982\ttrain-auc:0.910823\n",
      "[420]\teval-auc:0.824987\ttrain-auc:0.910910\n",
      "[421]\teval-auc:0.824991\ttrain-auc:0.910955\n",
      "[422]\teval-auc:0.824999\ttrain-auc:0.911069\n",
      "[423]\teval-auc:0.825003\ttrain-auc:0.911132\n",
      "[424]\teval-auc:0.825007\ttrain-auc:0.911213\n",
      "[425]\teval-auc:0.825003\ttrain-auc:0.911269\n",
      "[426]\teval-auc:0.825015\ttrain-auc:0.911407\n",
      "[427]\teval-auc:0.825013\ttrain-auc:0.911515\n",
      "[428]\teval-auc:0.825022\ttrain-auc:0.911586\n",
      "[429]\teval-auc:0.825026\ttrain-auc:0.911679\n",
      "[430]\teval-auc:0.825031\ttrain-auc:0.911765\n",
      "[431]\teval-auc:0.825027\ttrain-auc:0.911801\n",
      "[432]\teval-auc:0.825027\ttrain-auc:0.911877\n",
      "[433]\teval-auc:0.825027\ttrain-auc:0.911957\n",
      "[434]\teval-auc:0.825026\ttrain-auc:0.911970\n",
      "[435]\teval-auc:0.825024\ttrain-auc:0.912015\n",
      "[436]\teval-auc:0.825028\ttrain-auc:0.912077\n",
      "[437]\teval-auc:0.825040\ttrain-auc:0.912148\n",
      "[438]\teval-auc:0.825036\ttrain-auc:0.912264\n",
      "[439]\teval-auc:0.825037\ttrain-auc:0.912347\n",
      "[440]\teval-auc:0.825037\ttrain-auc:0.912447\n",
      "[441]\teval-auc:0.825035\ttrain-auc:0.912467\n",
      "[442]\teval-auc:0.825033\ttrain-auc:0.912489\n",
      "[443]\teval-auc:0.825035\ttrain-auc:0.912534\n",
      "[444]\teval-auc:0.825034\ttrain-auc:0.912549\n",
      "[445]\teval-auc:0.825032\ttrain-auc:0.912584\n",
      "[446]\teval-auc:0.825034\ttrain-auc:0.912633\n",
      "[447]\teval-auc:0.825037\ttrain-auc:0.912756\n",
      "[448]\teval-auc:0.825034\ttrain-auc:0.912879\n",
      "[449]\teval-auc:0.825029\ttrain-auc:0.912941\n",
      "[450]\teval-auc:0.825037\ttrain-auc:0.913016\n",
      "[451]\teval-auc:0.825035\ttrain-auc:0.913092\n",
      "[452]\teval-auc:0.825036\ttrain-auc:0.913148\n",
      "[453]\teval-auc:0.825032\ttrain-auc:0.913242\n",
      "[454]\teval-auc:0.825029\ttrain-auc:0.913288\n",
      "[455]\teval-auc:0.825028\ttrain-auc:0.913411\n",
      "[456]\teval-auc:0.825023\ttrain-auc:0.913544\n",
      "[457]\teval-auc:0.825013\ttrain-auc:0.913624\n",
      "[458]\teval-auc:0.825015\ttrain-auc:0.913677\n",
      "[459]\teval-auc:0.825011\ttrain-auc:0.913812\n",
      "[460]\teval-auc:0.825001\ttrain-auc:0.913911\n",
      "[461]\teval-auc:0.825011\ttrain-auc:0.913968\n",
      "[462]\teval-auc:0.825001\ttrain-auc:0.914045\n",
      "[463]\teval-auc:0.824996\ttrain-auc:0.914097\n",
      "[464]\teval-auc:0.825010\ttrain-auc:0.914229\n",
      "[465]\teval-auc:0.825010\ttrain-auc:0.914296\n",
      "[466]\teval-auc:0.825006\ttrain-auc:0.914359\n",
      "[467]\teval-auc:0.825003\ttrain-auc:0.914421\n",
      "[468]\teval-auc:0.825005\ttrain-auc:0.914489\n",
      "[469]\teval-auc:0.825007\ttrain-auc:0.914531\n",
      "[470]\teval-auc:0.825006\ttrain-auc:0.914581\n",
      "[471]\teval-auc:0.825008\ttrain-auc:0.914652\n",
      "[472]\teval-auc:0.825002\ttrain-auc:0.914706\n",
      "[473]\teval-auc:0.824997\ttrain-auc:0.914792\n",
      "[474]\teval-auc:0.824987\ttrain-auc:0.914839\n",
      "[475]\teval-auc:0.824983\ttrain-auc:0.914889\n",
      "[476]\teval-auc:0.824988\ttrain-auc:0.914980\n",
      "[477]\teval-auc:0.824989\ttrain-auc:0.915113\n",
      "[478]\teval-auc:0.824989\ttrain-auc:0.915138\n",
      "[479]\teval-auc:0.824988\ttrain-auc:0.915256\n",
      "[480]\teval-auc:0.824989\ttrain-auc:0.915303\n",
      "[481]\teval-auc:0.824990\ttrain-auc:0.915347\n",
      "[482]\teval-auc:0.825001\ttrain-auc:0.915478\n",
      "[483]\teval-auc:0.824997\ttrain-auc:0.915605\n",
      "[484]\teval-auc:0.824998\ttrain-auc:0.915672\n",
      "[485]\teval-auc:0.824991\ttrain-auc:0.915725\n",
      "[486]\teval-auc:0.824986\ttrain-auc:0.915801\n",
      "[487]\teval-auc:0.824987\ttrain-auc:0.915891\n",
      "[488]\teval-auc:0.824985\ttrain-auc:0.915937\n",
      "[489]\teval-auc:0.824986\ttrain-auc:0.915974\n",
      "[490]\teval-auc:0.824984\ttrain-auc:0.916046\n",
      "[491]\teval-auc:0.824984\ttrain-auc:0.916081\n",
      "[492]\teval-auc:0.824982\ttrain-auc:0.916158\n",
      "[493]\teval-auc:0.824981\ttrain-auc:0.916191\n",
      "[494]\teval-auc:0.824990\ttrain-auc:0.916309\n",
      "[495]\teval-auc:0.824997\ttrain-auc:0.916413\n",
      "[496]\teval-auc:0.825004\ttrain-auc:0.916457\n",
      "[497]\teval-auc:0.825007\ttrain-auc:0.916521\n",
      "[498]\teval-auc:0.825004\ttrain-auc:0.916574\n",
      "[499]\teval-auc:0.825010\ttrain-auc:0.916629\n",
      "[500]\teval-auc:0.825009\ttrain-auc:0.916693\n",
      "[501]\teval-auc:0.825005\ttrain-auc:0.916819\n",
      "[502]\teval-auc:0.825005\ttrain-auc:0.916870\n",
      "[503]\teval-auc:0.824998\ttrain-auc:0.916956\n",
      "[504]\teval-auc:0.824999\ttrain-auc:0.917042\n",
      "[505]\teval-auc:0.824998\ttrain-auc:0.917125\n",
      "[506]\teval-auc:0.824997\ttrain-auc:0.917159\n",
      "[507]\teval-auc:0.824981\ttrain-auc:0.917263\n",
      "[508]\teval-auc:0.824977\ttrain-auc:0.917304\n",
      "[509]\teval-auc:0.824978\ttrain-auc:0.917354\n"
     ]
    }
   ],
   "source": [
    "bst = xgb.train(param, dtrain, num_round, watchlist)"
   ]
  },
  {
   "cell_type": "markdown",
   "metadata": {},
   "source": [
    "Save models and data"
   ]
  },
  {
   "cell_type": "code",
   "execution_count": null,
   "metadata": {
    "collapsed": true
   },
   "outputs": [],
   "source": [
    "bst.save_model('./models/xgb_acc.model')\n",
    "bst.dump_model('./models/xgb_raw_acc.txt')"
   ]
  },
  {
   "cell_type": "markdown",
   "metadata": {},
   "source": [
    "Load test data "
   ]
  },
  {
   "cell_type": "code",
   "execution_count": null,
   "metadata": {
    "collapsed": false
   },
   "outputs": [],
   "source": [
    "Xtest = pd.read_csv(\"./test/accident_test_ext.csv\", index_col=0)\n",
    "ID= Xtest['ID'].astype(np.int64)\n",
    "Xtest.drop('ID', axis= 1, inplace=True)\n",
    "print(\"Load test samples\")"
   ]
  },
  {
   "cell_type": "code",
   "execution_count": null,
   "metadata": {
    "collapsed": true
   },
   "outputs": [],
   "source": [
    "dtest= xgb.DMatrix(data=Xtest.values, missing = NA)"
   ]
  },
  {
   "cell_type": "code",
   "execution_count": null,
   "metadata": {
    "collapsed": false
   },
   "outputs": [],
   "source": [
    "print(\"Prediction\")\n",
    "preds = bst.predict(dtest)"
   ]
  },
  {
   "cell_type": "code",
   "execution_count": null,
   "metadata": {
    "collapsed": true
   },
   "outputs": [],
   "source": [
    "dtrain.save_binary('./models/binary/dtrain.buffer')\n",
    "dtest.save_binary('./models/binary/dtest.buffer')\n",
    "deval.save_binary('./models/binary/deval.buffer')"
   ]
  },
  {
   "cell_type": "code",
   "execution_count": null,
   "metadata": {
    "collapsed": true
   },
   "outputs": [],
   "source": [
    "submit = pd.DataFrame(data={'ID': ID, 'DRUNK_DR': preds})\n",
    "submit.to_csv('fars_submit.csv', index = False)"
   ]
  },
  {
   "cell_type": "code",
   "execution_count": null,
   "metadata": {
    "collapsed": true
   },
   "outputs": [],
   "source": []
  }
 ],
 "metadata": {
  "kernelspec": {
   "display_name": "Python 3",
   "language": "python",
   "name": "python3"
  },
  "language_info": {
   "codemirror_mode": {
    "name": "ipython",
    "version": 3
   },
   "file_extension": ".py",
   "mimetype": "text/x-python",
   "name": "python",
   "nbconvert_exporter": "python",
   "pygments_lexer": "ipython3",
   "version": "3.5.1"
  }
 },
 "nbformat": 4,
 "nbformat_minor": 0
}
