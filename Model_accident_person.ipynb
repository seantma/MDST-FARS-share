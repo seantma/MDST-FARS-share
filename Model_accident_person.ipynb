{
 "cells": [
  {
   "cell_type": "markdown",
   "metadata": {},
   "source": [
    "# Train on accident and person data\n"
   ]
  },
  {
   "cell_type": "code",
   "execution_count": 1,
   "metadata": {
    "collapsed": false
   },
   "outputs": [
    {
     "name": "stdout",
     "output_type": "stream",
     "text": [
      "Once deleted, variables cannot be recovered. Proceed (y/[n])? y\n"
     ]
    },
    {
     "name": "stderr",
     "output_type": "stream",
     "text": [
      "/usr/cac/rhel6/lsa/anaconda-vis-portal/latest/lib/python3.5/site-packages/matplotlib/__init__.py:872: UserWarning: axes.color_cycle is deprecated and replaced with axes.prop_cycle; please use the latter.\n",
      "  warnings.warn(self.msg_depr % (key, alt_key))\n"
     ]
    }
   ],
   "source": [
    "%reset \n",
    "%matplotlib inline\n",
    "import os\n",
    "import pandas as pd\n",
    "import numpy as np\n",
    "import matplotlib.pyplot as plt\n",
    "import seaborn as sns\n",
    "import sqlite3\n",
    "import xgboost as xgb\n",
    "from numpy import nan as NA\n",
    "from sklearn.cross_validation import train_test_split\n",
    "from sklearn.metrics import roc_auc_score as auc"
   ]
  },
  {
   "cell_type": "markdown",
   "metadata": {},
   "source": [
    "# Load data and make labels consistent"
   ]
  },
  {
   "cell_type": "code",
   "execution_count": 2,
   "metadata": {
    "collapsed": false
   },
   "outputs": [
    {
     "name": "stdout",
     "output_type": "stream",
     "text": [
      "Load labels\n"
     ]
    }
   ],
   "source": [
    "print(\"Load labels\")\n",
    "label_file = pd.read_csv(\"./train/labels_ext.csv\", index_col=0)"
   ]
  },
  {
   "cell_type": "code",
   "execution_count": 3,
   "metadata": {
    "collapsed": false
   },
   "outputs": [
    {
     "name": "stdout",
     "output_type": "stream",
     "text": [
      "[708569, 260]\n"
     ]
    }
   ],
   "source": [
    "Xtrain = pd.read_csv(\"./train/joint_accident_person_train_ext.csv\", index_col=0)\n",
    "n_train, n_dim = Xtrain.shape\n",
    "print([n_train, n_dim])"
   ]
  },
  {
   "cell_type": "code",
   "execution_count": 4,
   "metadata": {
    "collapsed": false
   },
   "outputs": [],
   "source": [
    "temp = pd.merge(Xtrain, label_file, on=['ID'], how='inner')"
   ]
  },
  {
   "cell_type": "code",
   "execution_count": 5,
   "metadata": {
    "collapsed": false
   },
   "outputs": [],
   "source": [
    "y = temp['DRUNK_DR'].apply(lambda x: x*1 ).values"
   ]
  },
  {
   "cell_type": "code",
   "execution_count": 6,
   "metadata": {
    "collapsed": true
   },
   "outputs": [],
   "source": [
    "%xdel temp"
   ]
  },
  {
   "cell_type": "code",
   "execution_count": 7,
   "metadata": {
    "collapsed": false
   },
   "outputs": [
    {
     "name": "stdout",
     "output_type": "stream",
     "text": [
      "Splitting data\n"
     ]
    }
   ],
   "source": [
    "Xtrain.drop('ID', axis= 1, inplace=True)\n",
    "print(\"Splitting data\")"
   ]
  },
  {
   "cell_type": "code",
   "execution_count": 8,
   "metadata": {
    "collapsed": false
   },
   "outputs": [],
   "source": [
    "Xtrain_c, Xeval, Ytrain_c, Yeval = train_test_split(Xtrain.values, y, test_size = 0.3)"
   ]
  },
  {
   "cell_type": "code",
   "execution_count": 9,
   "metadata": {
    "collapsed": true
   },
   "outputs": [],
   "source": [
    "%xdel Xtrain\n",
    "%xdel label_file"
   ]
  },
  {
   "cell_type": "code",
   "execution_count": 10,
   "metadata": {
    "collapsed": false
   },
   "outputs": [
    {
     "name": "stdout",
     "output_type": "stream",
     "text": [
      "Variable           Type        Data/Info\n",
      "----------------------------------------\n",
      "NA                 float       nan\n",
      "Xeval              ndarray     212571x259: 55055889 elems, type `float64`, 440447112 bytes (420.04309844970703 Mb)\n",
      "Xtrain_c           ndarray     495998x259: 128463482 elems, type `float64`, 1027707856 bytes (980.0985870361328 Mb)\n",
      "Yeval              ndarray     212571: 212571 elems, type `int64`, 1700568 bytes (1.6217880249023438 Mb)\n",
      "Ytrain_c           ndarray     495998: 495998 elems, type `int64`, 3967984 bytes (3.7841644287109375 Mb)\n",
      "auc                function    <function roc_auc_score at 0x2b8af0383048>\n",
      "n_dim              int         260\n",
      "n_train            int         708569\n",
      "np                 module      <module 'numpy' from '/us<...>kages/numpy/__init__.py'>\n",
      "os                 module      <module 'os' from '/usr/c<...>est/lib/python3.5/os.py'>\n",
      "pd                 module      <module 'pandas' from '/u<...>ages/pandas/__init__.py'>\n",
      "plt                module      <module 'matplotlib.pyplo<...>es/matplotlib/pyplot.py'>\n",
      "sns                module      <module 'seaborn' from '/<...>ges/seaborn/__init__.py'>\n",
      "sqlite3            module      <module 'sqlite3' from '/<...>3.5/sqlite3/__init__.py'>\n",
      "train_test_split   function    <function train_test_split at 0x2b8af0a05510>\n",
      "xgb                module      <module 'xgboost' from '/<...>age/xgboost/__init__.py'>\n",
      "y                  ndarray     708569: 708569 elems, type `int64`, 5668552 bytes (5.405952453613281 Mb)\n"
     ]
    }
   ],
   "source": [
    "%whos"
   ]
  },
  {
   "cell_type": "code",
   "execution_count": 11,
   "metadata": {
    "collapsed": false
   },
   "outputs": [
    {
     "name": "stdout",
     "output_type": "stream",
     "text": [
      "Load data into sparse matrix\n",
      "Specifying the parameters ... \n"
     ]
    }
   ],
   "source": [
    "print(\"Load data into sparse matrix\")\n",
    "dtrain = xgb.DMatrix(data=Xtrain_c, missing = NA, label= Ytrain_c)\n",
    "deval  = xgb.DMatrix(data=Xeval, missing = NA, label = Yeval)\n",
    "print(\"Specifying the parameters ... \")"
   ]
  },
  {
   "cell_type": "code",
   "execution_count": 12,
   "metadata": {
    "collapsed": false
   },
   "outputs": [
    {
     "name": "stdout",
     "output_type": "stream",
     "text": [
      "Variable           Type        Data/Info\n",
      "----------------------------------------\n",
      "NA                 float       nan\n",
      "Yeval              ndarray     212571: 212571 elems, type `int64`, 1700568 bytes (1.6217880249023438 Mb)\n",
      "Ytrain_c           ndarray     495998: 495998 elems, type `int64`, 3967984 bytes (3.7841644287109375 Mb)\n",
      "auc                function    <function roc_auc_score at 0x2b8af0383048>\n",
      "deval              DMatrix     <xgboost.core.DMatrix object at 0x2b8af0a333c8>\n",
      "dtrain             DMatrix     <xgboost.core.DMatrix object at 0x2b8af0a33390>\n",
      "n_dim              int         260\n",
      "n_train            int         708569\n",
      "np                 module      <module 'numpy' from '/us<...>kages/numpy/__init__.py'>\n",
      "os                 module      <module 'os' from '/usr/c<...>est/lib/python3.5/os.py'>\n",
      "pd                 module      <module 'pandas' from '/u<...>ages/pandas/__init__.py'>\n",
      "plt                module      <module 'matplotlib.pyplo<...>es/matplotlib/pyplot.py'>\n",
      "sns                module      <module 'seaborn' from '/<...>ges/seaborn/__init__.py'>\n",
      "sqlite3            module      <module 'sqlite3' from '/<...>3.5/sqlite3/__init__.py'>\n",
      "train_test_split   function    <function train_test_split at 0x2b8af0a05510>\n",
      "xgb                module      <module 'xgboost' from '/<...>age/xgboost/__init__.py'>\n",
      "y                  ndarray     708569: 708569 elems, type `int64`, 5668552 bytes (5.405952453613281 Mb)\n"
     ]
    }
   ],
   "source": [
    "%xdel Xtrain_c\n",
    "%xdel Xeval\n",
    "%whos"
   ]
  },
  {
   "cell_type": "code",
   "execution_count": 13,
   "metadata": {
    "collapsed": true
   },
   "outputs": [],
   "source": [
    "param = {'max_depth': 12,\n",
    "         'eta': 0.02,\n",
    "         'subsample': 0.7,\n",
    "         'colsample_bytree': 0.8,\n",
    "         'silent': 0,\n",
    "         'eval_metric': 'auc',\n",
    "         'alpha': 0,\n",
    "         'lambda': 1,\n",
    "         'nthread': 8,\n",
    "         'objective': 'binary:logistic'}"
   ]
  },
  {
   "cell_type": "code",
   "execution_count": 14,
   "metadata": {
    "collapsed": false
   },
   "outputs": [
    {
     "name": "stdout",
     "output_type": "stream",
     "text": [
      "Training ... \n"
     ]
    }
   ],
   "source": [
    "watchlist = [(deval, 'eval'), (dtrain, 'train')]\n",
    "num_round = 520\n",
    "print(\"Training ... \")"
   ]
  },
  {
   "cell_type": "code",
   "execution_count": 15,
   "metadata": {
    "collapsed": false
   },
   "outputs": [],
   "source": [
    "bst = xgb.train(param, dtrain, num_round, watchlist)"
   ]
  },
  {
   "cell_type": "code",
   "execution_count": 16,
   "metadata": {
    "collapsed": false
   },
   "outputs": [
    {
     "name": "stdout",
     "output_type": "stream",
     "text": [
      "Saving the model\n"
     ]
    }
   ],
   "source": [
    "print(\"Saving the model\")\n",
    "bst.save_model('./models/xgb_acc_per.model')\n",
    "bst.dump_model('./models/xgb_raw_acc_per.txt')\n",
    "\n",
    "dtrain.save_binary('./models/binary/dtrain.buffer')\n",
    "deval.save_binary('./models/binary/deval.buffer')\n",
    "\n",
    "%xdel dtrain\n",
    "%xdel deval"
   ]
  },
  {
   "cell_type": "code",
   "execution_count": 17,
   "metadata": {
    "collapsed": false
   },
   "outputs": [
    {
     "name": "stdout",
     "output_type": "stream",
     "text": [
      "Variable           Type        Data/Info\n",
      "----------------------------------------\n",
      "NA                 float       nan\n",
      "Yeval              ndarray     212571: 212571 elems, type `int64`, 1700568 bytes (1.6217880249023438 Mb)\n",
      "Ytrain_c           ndarray     495998: 495998 elems, type `int64`, 3967984 bytes (3.7841644287109375 Mb)\n",
      "auc                function    <function roc_auc_score at 0x2b8af0383048>\n",
      "bst                Booster     <xgboost.core.Booster object at 0x2b8af0a33080>\n",
      "n_dim              int         260\n",
      "n_train            int         708569\n",
      "np                 module      <module 'numpy' from '/us<...>kages/numpy/__init__.py'>\n",
      "num_round          int         520\n",
      "os                 module      <module 'os' from '/usr/c<...>est/lib/python3.5/os.py'>\n",
      "param              dict        n=10\n",
      "pd                 module      <module 'pandas' from '/u<...>ages/pandas/__init__.py'>\n",
      "plt                module      <module 'matplotlib.pyplo<...>es/matplotlib/pyplot.py'>\n",
      "sns                module      <module 'seaborn' from '/<...>ges/seaborn/__init__.py'>\n",
      "sqlite3            module      <module 'sqlite3' from '/<...>3.5/sqlite3/__init__.py'>\n",
      "train_test_split   function    <function train_test_split at 0x2b8af0a05510>\n",
      "watchlist          list        n=2\n",
      "xgb                module      <module 'xgboost' from '/<...>age/xgboost/__init__.py'>\n",
      "y                  ndarray     708569: 708569 elems, type `int64`, 5668552 bytes (5.405952453613281 Mb)\n"
     ]
    }
   ],
   "source": [
    "%whos"
   ]
  },
  {
   "cell_type": "code",
   "execution_count": 18,
   "metadata": {
    "collapsed": false
   },
   "outputs": [
    {
     "name": "stdout",
     "output_type": "stream",
     "text": [
      "Load test samples\n"
     ]
    }
   ],
   "source": [
    "Xtest = pd.read_csv(\"./test/joint_accident_person_test_ext.csv\", index_col=0)\n",
    "ID= Xtest['ID'].astype(np.int64)\n",
    "Xtest.drop('ID', axis= 1, inplace=True)\n",
    "print(\"Load test samples\")"
   ]
  },
  {
   "cell_type": "code",
   "execution_count": 19,
   "metadata": {
    "collapsed": true
   },
   "outputs": [],
   "source": [
    "uniqueID = np.unique(ID)"
   ]
  },
  {
   "cell_type": "code",
   "execution_count": 20,
   "metadata": {
    "collapsed": false
   },
   "outputs": [
    {
     "data": {
      "text/plain": [
       "array([     0,      1,      2, ..., 121062, 121063, 121064])"
      ]
     },
     "execution_count": 20,
     "metadata": {},
     "output_type": "execute_result"
    }
   ],
   "source": [
    "uniqueID"
   ]
  },
  {
   "cell_type": "code",
   "execution_count": 21,
   "metadata": {
    "collapsed": false
   },
   "outputs": [],
   "source": [
    "dtest= xgb.DMatrix(data=Xtest.values, missing = NA)"
   ]
  },
  {
   "cell_type": "code",
   "execution_count": 22,
   "metadata": {
    "collapsed": false
   },
   "outputs": [
    {
     "name": "stdout",
     "output_type": "stream",
     "text": [
      "Prediction\n"
     ]
    }
   ],
   "source": [
    "print(\"Prediction\")\n",
    "preds = bst.predict(dtest)"
   ]
  },
  {
   "cell_type": "code",
   "execution_count": 23,
   "metadata": {
    "collapsed": true
   },
   "outputs": [],
   "source": [
    "dtest.save_binary('./models/binary/dtest.buffer')\n"
   ]
  },
  {
   "cell_type": "code",
   "execution_count": 24,
   "metadata": {
    "collapsed": false
   },
   "outputs": [
    {
     "name": "stdout",
     "output_type": "stream",
     "text": [
      "submit\n"
     ]
    },
    {
     "data": {
      "text/html": [
       "<div>\n",
       "<table border=\"1\" class=\"dataframe\">\n",
       "  <thead>\n",
       "    <tr style=\"text-align: right;\">\n",
       "      <th></th>\n",
       "      <th>ID</th>\n",
       "      <th>prob</th>\n",
       "    </tr>\n",
       "  </thead>\n",
       "  <tbody>\n",
       "    <tr>\n",
       "      <th>0</th>\n",
       "      <td>0</td>\n",
       "      <td>0.166868</td>\n",
       "    </tr>\n",
       "    <tr>\n",
       "      <th>1</th>\n",
       "      <td>1</td>\n",
       "      <td>0.365786</td>\n",
       "    </tr>\n",
       "    <tr>\n",
       "      <th>2</th>\n",
       "      <td>1</td>\n",
       "      <td>0.559330</td>\n",
       "    </tr>\n",
       "    <tr>\n",
       "      <th>3</th>\n",
       "      <td>1</td>\n",
       "      <td>0.403655</td>\n",
       "    </tr>\n",
       "    <tr>\n",
       "      <th>4</th>\n",
       "      <td>2</td>\n",
       "      <td>0.245116</td>\n",
       "    </tr>\n",
       "    <tr>\n",
       "      <th>5</th>\n",
       "      <td>2</td>\n",
       "      <td>0.159998</td>\n",
       "    </tr>\n",
       "    <tr>\n",
       "      <th>6</th>\n",
       "      <td>2</td>\n",
       "      <td>0.165970</td>\n",
       "    </tr>\n",
       "    <tr>\n",
       "      <th>7</th>\n",
       "      <td>3</td>\n",
       "      <td>0.038040</td>\n",
       "    </tr>\n",
       "    <tr>\n",
       "      <th>8</th>\n",
       "      <td>3</td>\n",
       "      <td>0.023363</td>\n",
       "    </tr>\n",
       "    <tr>\n",
       "      <th>9</th>\n",
       "      <td>4</td>\n",
       "      <td>0.041091</td>\n",
       "    </tr>\n",
       "    <tr>\n",
       "      <th>10</th>\n",
       "      <td>5</td>\n",
       "      <td>0.687770</td>\n",
       "    </tr>\n",
       "    <tr>\n",
       "      <th>11</th>\n",
       "      <td>6</td>\n",
       "      <td>0.071113</td>\n",
       "    </tr>\n",
       "    <tr>\n",
       "      <th>12</th>\n",
       "      <td>6</td>\n",
       "      <td>0.080203</td>\n",
       "    </tr>\n",
       "    <tr>\n",
       "      <th>13</th>\n",
       "      <td>6</td>\n",
       "      <td>0.062047</td>\n",
       "    </tr>\n",
       "    <tr>\n",
       "      <th>14</th>\n",
       "      <td>6</td>\n",
       "      <td>0.061489</td>\n",
       "    </tr>\n",
       "    <tr>\n",
       "      <th>15</th>\n",
       "      <td>7</td>\n",
       "      <td>0.069918</td>\n",
       "    </tr>\n",
       "    <tr>\n",
       "      <th>16</th>\n",
       "      <td>7</td>\n",
       "      <td>0.065445</td>\n",
       "    </tr>\n",
       "    <tr>\n",
       "      <th>17</th>\n",
       "      <td>8</td>\n",
       "      <td>0.215947</td>\n",
       "    </tr>\n",
       "    <tr>\n",
       "      <th>18</th>\n",
       "      <td>8</td>\n",
       "      <td>0.311733</td>\n",
       "    </tr>\n",
       "    <tr>\n",
       "      <th>19</th>\n",
       "      <td>9</td>\n",
       "      <td>0.187165</td>\n",
       "    </tr>\n",
       "    <tr>\n",
       "      <th>20</th>\n",
       "      <td>9</td>\n",
       "      <td>0.127869</td>\n",
       "    </tr>\n",
       "    <tr>\n",
       "      <th>21</th>\n",
       "      <td>9</td>\n",
       "      <td>0.092247</td>\n",
       "    </tr>\n",
       "    <tr>\n",
       "      <th>22</th>\n",
       "      <td>9</td>\n",
       "      <td>0.206802</td>\n",
       "    </tr>\n",
       "    <tr>\n",
       "      <th>23</th>\n",
       "      <td>10</td>\n",
       "      <td>0.028413</td>\n",
       "    </tr>\n",
       "    <tr>\n",
       "      <th>24</th>\n",
       "      <td>10</td>\n",
       "      <td>0.026628</td>\n",
       "    </tr>\n",
       "    <tr>\n",
       "      <th>25</th>\n",
       "      <td>10</td>\n",
       "      <td>0.053303</td>\n",
       "    </tr>\n",
       "    <tr>\n",
       "      <th>26</th>\n",
       "      <td>10</td>\n",
       "      <td>0.029144</td>\n",
       "    </tr>\n",
       "    <tr>\n",
       "      <th>27</th>\n",
       "      <td>10</td>\n",
       "      <td>0.046105</td>\n",
       "    </tr>\n",
       "    <tr>\n",
       "      <th>28</th>\n",
       "      <td>11</td>\n",
       "      <td>0.729361</td>\n",
       "    </tr>\n",
       "    <tr>\n",
       "      <th>29</th>\n",
       "      <td>11</td>\n",
       "      <td>0.708072</td>\n",
       "    </tr>\n",
       "    <tr>\n",
       "      <th>...</th>\n",
       "      <td>...</td>\n",
       "      <td>...</td>\n",
       "    </tr>\n",
       "    <tr>\n",
       "      <th>297649</th>\n",
       "      <td>121052</td>\n",
       "      <td>0.867086</td>\n",
       "    </tr>\n",
       "    <tr>\n",
       "      <th>297650</th>\n",
       "      <td>121052</td>\n",
       "      <td>0.840983</td>\n",
       "    </tr>\n",
       "    <tr>\n",
       "      <th>297651</th>\n",
       "      <td>121052</td>\n",
       "      <td>0.842338</td>\n",
       "    </tr>\n",
       "    <tr>\n",
       "      <th>297652</th>\n",
       "      <td>121053</td>\n",
       "      <td>0.060717</td>\n",
       "    </tr>\n",
       "    <tr>\n",
       "      <th>297653</th>\n",
       "      <td>121054</td>\n",
       "      <td>0.621301</td>\n",
       "    </tr>\n",
       "    <tr>\n",
       "      <th>297654</th>\n",
       "      <td>121055</td>\n",
       "      <td>0.122143</td>\n",
       "    </tr>\n",
       "    <tr>\n",
       "      <th>297655</th>\n",
       "      <td>121055</td>\n",
       "      <td>0.075649</td>\n",
       "    </tr>\n",
       "    <tr>\n",
       "      <th>297656</th>\n",
       "      <td>121055</td>\n",
       "      <td>0.052513</td>\n",
       "    </tr>\n",
       "    <tr>\n",
       "      <th>297657</th>\n",
       "      <td>121055</td>\n",
       "      <td>0.110023</td>\n",
       "    </tr>\n",
       "    <tr>\n",
       "      <th>297658</th>\n",
       "      <td>121056</td>\n",
       "      <td>0.277294</td>\n",
       "    </tr>\n",
       "    <tr>\n",
       "      <th>297659</th>\n",
       "      <td>121056</td>\n",
       "      <td>0.274009</td>\n",
       "    </tr>\n",
       "    <tr>\n",
       "      <th>297660</th>\n",
       "      <td>121057</td>\n",
       "      <td>0.196888</td>\n",
       "    </tr>\n",
       "    <tr>\n",
       "      <th>297661</th>\n",
       "      <td>121057</td>\n",
       "      <td>0.146295</td>\n",
       "    </tr>\n",
       "    <tr>\n",
       "      <th>297662</th>\n",
       "      <td>121057</td>\n",
       "      <td>0.169260</td>\n",
       "    </tr>\n",
       "    <tr>\n",
       "      <th>297663</th>\n",
       "      <td>121057</td>\n",
       "      <td>0.175283</td>\n",
       "    </tr>\n",
       "    <tr>\n",
       "      <th>297664</th>\n",
       "      <td>121057</td>\n",
       "      <td>0.225600</td>\n",
       "    </tr>\n",
       "    <tr>\n",
       "      <th>297665</th>\n",
       "      <td>121057</td>\n",
       "      <td>0.219283</td>\n",
       "    </tr>\n",
       "    <tr>\n",
       "      <th>297666</th>\n",
       "      <td>121058</td>\n",
       "      <td>0.110443</td>\n",
       "    </tr>\n",
       "    <tr>\n",
       "      <th>297667</th>\n",
       "      <td>121059</td>\n",
       "      <td>0.063670</td>\n",
       "    </tr>\n",
       "    <tr>\n",
       "      <th>297668</th>\n",
       "      <td>121059</td>\n",
       "      <td>0.045614</td>\n",
       "    </tr>\n",
       "    <tr>\n",
       "      <th>297669</th>\n",
       "      <td>121059</td>\n",
       "      <td>0.056755</td>\n",
       "    </tr>\n",
       "    <tr>\n",
       "      <th>297670</th>\n",
       "      <td>121060</td>\n",
       "      <td>0.732484</td>\n",
       "    </tr>\n",
       "    <tr>\n",
       "      <th>297671</th>\n",
       "      <td>121061</td>\n",
       "      <td>0.128275</td>\n",
       "    </tr>\n",
       "    <tr>\n",
       "      <th>297672</th>\n",
       "      <td>121061</td>\n",
       "      <td>0.219363</td>\n",
       "    </tr>\n",
       "    <tr>\n",
       "      <th>297673</th>\n",
       "      <td>121062</td>\n",
       "      <td>0.065715</td>\n",
       "    </tr>\n",
       "    <tr>\n",
       "      <th>297674</th>\n",
       "      <td>121062</td>\n",
       "      <td>0.147612</td>\n",
       "    </tr>\n",
       "    <tr>\n",
       "      <th>297675</th>\n",
       "      <td>121062</td>\n",
       "      <td>0.265323</td>\n",
       "    </tr>\n",
       "    <tr>\n",
       "      <th>297676</th>\n",
       "      <td>121063</td>\n",
       "      <td>0.065910</td>\n",
       "    </tr>\n",
       "    <tr>\n",
       "      <th>297677</th>\n",
       "      <td>121063</td>\n",
       "      <td>0.053380</td>\n",
       "    </tr>\n",
       "    <tr>\n",
       "      <th>297678</th>\n",
       "      <td>121064</td>\n",
       "      <td>0.044860</td>\n",
       "    </tr>\n",
       "  </tbody>\n",
       "</table>\n",
       "<p>297679 rows × 2 columns</p>\n",
       "</div>"
      ],
      "text/plain": [
       "            ID      prob\n",
       "0            0  0.166868\n",
       "1            1  0.365786\n",
       "2            1  0.559330\n",
       "3            1  0.403655\n",
       "4            2  0.245116\n",
       "5            2  0.159998\n",
       "6            2  0.165970\n",
       "7            3  0.038040\n",
       "8            3  0.023363\n",
       "9            4  0.041091\n",
       "10           5  0.687770\n",
       "11           6  0.071113\n",
       "12           6  0.080203\n",
       "13           6  0.062047\n",
       "14           6  0.061489\n",
       "15           7  0.069918\n",
       "16           7  0.065445\n",
       "17           8  0.215947\n",
       "18           8  0.311733\n",
       "19           9  0.187165\n",
       "20           9  0.127869\n",
       "21           9  0.092247\n",
       "22           9  0.206802\n",
       "23          10  0.028413\n",
       "24          10  0.026628\n",
       "25          10  0.053303\n",
       "26          10  0.029144\n",
       "27          10  0.046105\n",
       "28          11  0.729361\n",
       "29          11  0.708072\n",
       "...        ...       ...\n",
       "297649  121052  0.867086\n",
       "297650  121052  0.840983\n",
       "297651  121052  0.842338\n",
       "297652  121053  0.060717\n",
       "297653  121054  0.621301\n",
       "297654  121055  0.122143\n",
       "297655  121055  0.075649\n",
       "297656  121055  0.052513\n",
       "297657  121055  0.110023\n",
       "297658  121056  0.277294\n",
       "297659  121056  0.274009\n",
       "297660  121057  0.196888\n",
       "297661  121057  0.146295\n",
       "297662  121057  0.169260\n",
       "297663  121057  0.175283\n",
       "297664  121057  0.225600\n",
       "297665  121057  0.219283\n",
       "297666  121058  0.110443\n",
       "297667  121059  0.063670\n",
       "297668  121059  0.045614\n",
       "297669  121059  0.056755\n",
       "297670  121060  0.732484\n",
       "297671  121061  0.128275\n",
       "297672  121061  0.219363\n",
       "297673  121062  0.065715\n",
       "297674  121062  0.147612\n",
       "297675  121062  0.265323\n",
       "297676  121063  0.065910\n",
       "297677  121063  0.053380\n",
       "297678  121064  0.044860\n",
       "\n",
       "[297679 rows x 2 columns]"
      ]
     },
     "execution_count": 24,
     "metadata": {},
     "output_type": "execute_result"
    }
   ],
   "source": [
    "print(\"submit\")\n",
    "predict_df = pd.DataFrame(data={'ID': ID.values, 'prob': preds})\n",
    "predict_df"
   ]
  },
  {
   "cell_type": "code",
   "execution_count": 25,
   "metadata": {
    "collapsed": false
   },
   "outputs": [
    {
     "data": {
      "text/html": [
       "<div>\n",
       "<table border=\"1\" class=\"dataframe\">\n",
       "  <thead>\n",
       "    <tr style=\"text-align: right;\">\n",
       "      <th></th>\n",
       "      <th>prob</th>\n",
       "    </tr>\n",
       "    <tr>\n",
       "      <th>ID</th>\n",
       "      <th></th>\n",
       "    </tr>\n",
       "  </thead>\n",
       "  <tbody>\n",
       "    <tr>\n",
       "      <th>0</th>\n",
       "      <td>0.166868</td>\n",
       "    </tr>\n",
       "    <tr>\n",
       "      <th>1</th>\n",
       "      <td>0.442924</td>\n",
       "    </tr>\n",
       "    <tr>\n",
       "      <th>2</th>\n",
       "      <td>0.190361</td>\n",
       "    </tr>\n",
       "    <tr>\n",
       "      <th>3</th>\n",
       "      <td>0.030701</td>\n",
       "    </tr>\n",
       "    <tr>\n",
       "      <th>4</th>\n",
       "      <td>0.041091</td>\n",
       "    </tr>\n",
       "    <tr>\n",
       "      <th>5</th>\n",
       "      <td>0.687770</td>\n",
       "    </tr>\n",
       "    <tr>\n",
       "      <th>6</th>\n",
       "      <td>0.068713</td>\n",
       "    </tr>\n",
       "    <tr>\n",
       "      <th>7</th>\n",
       "      <td>0.067682</td>\n",
       "    </tr>\n",
       "    <tr>\n",
       "      <th>8</th>\n",
       "      <td>0.263840</td>\n",
       "    </tr>\n",
       "    <tr>\n",
       "      <th>9</th>\n",
       "      <td>0.153521</td>\n",
       "    </tr>\n",
       "    <tr>\n",
       "      <th>10</th>\n",
       "      <td>0.036719</td>\n",
       "    </tr>\n",
       "    <tr>\n",
       "      <th>11</th>\n",
       "      <td>0.718717</td>\n",
       "    </tr>\n",
       "    <tr>\n",
       "      <th>12</th>\n",
       "      <td>0.105552</td>\n",
       "    </tr>\n",
       "    <tr>\n",
       "      <th>13</th>\n",
       "      <td>0.659281</td>\n",
       "    </tr>\n",
       "    <tr>\n",
       "      <th>14</th>\n",
       "      <td>0.105963</td>\n",
       "    </tr>\n",
       "    <tr>\n",
       "      <th>15</th>\n",
       "      <td>0.171664</td>\n",
       "    </tr>\n",
       "    <tr>\n",
       "      <th>16</th>\n",
       "      <td>0.715982</td>\n",
       "    </tr>\n",
       "    <tr>\n",
       "      <th>17</th>\n",
       "      <td>0.039401</td>\n",
       "    </tr>\n",
       "    <tr>\n",
       "      <th>18</th>\n",
       "      <td>0.335561</td>\n",
       "    </tr>\n",
       "    <tr>\n",
       "      <th>19</th>\n",
       "      <td>0.040893</td>\n",
       "    </tr>\n",
       "    <tr>\n",
       "      <th>20</th>\n",
       "      <td>0.493001</td>\n",
       "    </tr>\n",
       "    <tr>\n",
       "      <th>21</th>\n",
       "      <td>0.587211</td>\n",
       "    </tr>\n",
       "    <tr>\n",
       "      <th>22</th>\n",
       "      <td>0.052810</td>\n",
       "    </tr>\n",
       "    <tr>\n",
       "      <th>23</th>\n",
       "      <td>0.073832</td>\n",
       "    </tr>\n",
       "    <tr>\n",
       "      <th>24</th>\n",
       "      <td>0.190022</td>\n",
       "    </tr>\n",
       "    <tr>\n",
       "      <th>25</th>\n",
       "      <td>0.208359</td>\n",
       "    </tr>\n",
       "    <tr>\n",
       "      <th>26</th>\n",
       "      <td>0.200335</td>\n",
       "    </tr>\n",
       "    <tr>\n",
       "      <th>27</th>\n",
       "      <td>0.051957</td>\n",
       "    </tr>\n",
       "    <tr>\n",
       "      <th>28</th>\n",
       "      <td>0.196493</td>\n",
       "    </tr>\n",
       "    <tr>\n",
       "      <th>29</th>\n",
       "      <td>0.070644</td>\n",
       "    </tr>\n",
       "    <tr>\n",
       "      <th>...</th>\n",
       "      <td>...</td>\n",
       "    </tr>\n",
       "    <tr>\n",
       "      <th>121035</th>\n",
       "      <td>0.288785</td>\n",
       "    </tr>\n",
       "    <tr>\n",
       "      <th>121036</th>\n",
       "      <td>0.139397</td>\n",
       "    </tr>\n",
       "    <tr>\n",
       "      <th>121037</th>\n",
       "      <td>0.127631</td>\n",
       "    </tr>\n",
       "    <tr>\n",
       "      <th>121038</th>\n",
       "      <td>0.465572</td>\n",
       "    </tr>\n",
       "    <tr>\n",
       "      <th>121039</th>\n",
       "      <td>0.375213</td>\n",
       "    </tr>\n",
       "    <tr>\n",
       "      <th>121040</th>\n",
       "      <td>0.044832</td>\n",
       "    </tr>\n",
       "    <tr>\n",
       "      <th>121041</th>\n",
       "      <td>0.527197</td>\n",
       "    </tr>\n",
       "    <tr>\n",
       "      <th>121042</th>\n",
       "      <td>0.470679</td>\n",
       "    </tr>\n",
       "    <tr>\n",
       "      <th>121043</th>\n",
       "      <td>0.165971</td>\n",
       "    </tr>\n",
       "    <tr>\n",
       "      <th>121044</th>\n",
       "      <td>0.150477</td>\n",
       "    </tr>\n",
       "    <tr>\n",
       "      <th>121045</th>\n",
       "      <td>0.134377</td>\n",
       "    </tr>\n",
       "    <tr>\n",
       "      <th>121046</th>\n",
       "      <td>0.573340</td>\n",
       "    </tr>\n",
       "    <tr>\n",
       "      <th>121047</th>\n",
       "      <td>0.082043</td>\n",
       "    </tr>\n",
       "    <tr>\n",
       "      <th>121048</th>\n",
       "      <td>0.035391</td>\n",
       "    </tr>\n",
       "    <tr>\n",
       "      <th>121049</th>\n",
       "      <td>0.032519</td>\n",
       "    </tr>\n",
       "    <tr>\n",
       "      <th>121050</th>\n",
       "      <td>0.041073</td>\n",
       "    </tr>\n",
       "    <tr>\n",
       "      <th>121051</th>\n",
       "      <td>0.046139</td>\n",
       "    </tr>\n",
       "    <tr>\n",
       "      <th>121052</th>\n",
       "      <td>0.833756</td>\n",
       "    </tr>\n",
       "    <tr>\n",
       "      <th>121053</th>\n",
       "      <td>0.060717</td>\n",
       "    </tr>\n",
       "    <tr>\n",
       "      <th>121054</th>\n",
       "      <td>0.621301</td>\n",
       "    </tr>\n",
       "    <tr>\n",
       "      <th>121055</th>\n",
       "      <td>0.090082</td>\n",
       "    </tr>\n",
       "    <tr>\n",
       "      <th>121056</th>\n",
       "      <td>0.275651</td>\n",
       "    </tr>\n",
       "    <tr>\n",
       "      <th>121057</th>\n",
       "      <td>0.188768</td>\n",
       "    </tr>\n",
       "    <tr>\n",
       "      <th>121058</th>\n",
       "      <td>0.110443</td>\n",
       "    </tr>\n",
       "    <tr>\n",
       "      <th>121059</th>\n",
       "      <td>0.055346</td>\n",
       "    </tr>\n",
       "    <tr>\n",
       "      <th>121060</th>\n",
       "      <td>0.732484</td>\n",
       "    </tr>\n",
       "    <tr>\n",
       "      <th>121061</th>\n",
       "      <td>0.173819</td>\n",
       "    </tr>\n",
       "    <tr>\n",
       "      <th>121062</th>\n",
       "      <td>0.159550</td>\n",
       "    </tr>\n",
       "    <tr>\n",
       "      <th>121063</th>\n",
       "      <td>0.059645</td>\n",
       "    </tr>\n",
       "    <tr>\n",
       "      <th>121064</th>\n",
       "      <td>0.044860</td>\n",
       "    </tr>\n",
       "  </tbody>\n",
       "</table>\n",
       "<p>121065 rows × 1 columns</p>\n",
       "</div>"
      ],
      "text/plain": [
       "            prob\n",
       "ID              \n",
       "0       0.166868\n",
       "1       0.442924\n",
       "2       0.190361\n",
       "3       0.030701\n",
       "4       0.041091\n",
       "5       0.687770\n",
       "6       0.068713\n",
       "7       0.067682\n",
       "8       0.263840\n",
       "9       0.153521\n",
       "10      0.036719\n",
       "11      0.718717\n",
       "12      0.105552\n",
       "13      0.659281\n",
       "14      0.105963\n",
       "15      0.171664\n",
       "16      0.715982\n",
       "17      0.039401\n",
       "18      0.335561\n",
       "19      0.040893\n",
       "20      0.493001\n",
       "21      0.587211\n",
       "22      0.052810\n",
       "23      0.073832\n",
       "24      0.190022\n",
       "25      0.208359\n",
       "26      0.200335\n",
       "27      0.051957\n",
       "28      0.196493\n",
       "29      0.070644\n",
       "...          ...\n",
       "121035  0.288785\n",
       "121036  0.139397\n",
       "121037  0.127631\n",
       "121038  0.465572\n",
       "121039  0.375213\n",
       "121040  0.044832\n",
       "121041  0.527197\n",
       "121042  0.470679\n",
       "121043  0.165971\n",
       "121044  0.150477\n",
       "121045  0.134377\n",
       "121046  0.573340\n",
       "121047  0.082043\n",
       "121048  0.035391\n",
       "121049  0.032519\n",
       "121050  0.041073\n",
       "121051  0.046139\n",
       "121052  0.833756\n",
       "121053  0.060717\n",
       "121054  0.621301\n",
       "121055  0.090082\n",
       "121056  0.275651\n",
       "121057  0.188768\n",
       "121058  0.110443\n",
       "121059  0.055346\n",
       "121060  0.732484\n",
       "121061  0.173819\n",
       "121062  0.159550\n",
       "121063  0.059645\n",
       "121064  0.044860\n",
       "\n",
       "[121065 rows x 1 columns]"
      ]
     },
     "execution_count": 25,
     "metadata": {},
     "output_type": "execute_result"
    }
   ],
   "source": [
    "predict_df.groupby('ID').mean()"
   ]
  },
  {
   "cell_type": "code",
   "execution_count": 26,
   "metadata": {
    "collapsed": false
   },
   "outputs": [],
   "source": [
    "grouped_predict = predict_df.groupby('ID')\n",
    "prediction = grouped_predict.mean()"
   ]
  },
  {
   "cell_type": "code",
   "execution_count": 27,
   "metadata": {
    "collapsed": false
   },
   "outputs": [
    {
     "data": {
      "text/plain": [
       "Int64Index([     0,      1,      2,      3,      4,      5,      6,      7,\n",
       "                 8,      9,\n",
       "            ...\n",
       "            121055, 121056, 121057, 121058, 121059, 121060, 121061, 121062,\n",
       "            121063, 121064],\n",
       "           dtype='int64', name='ID', length=121065)"
      ]
     },
     "execution_count": 27,
     "metadata": {},
     "output_type": "execute_result"
    }
   ],
   "source": [
    "prediction.index"
   ]
  },
  {
   "cell_type": "code",
   "execution_count": 28,
   "metadata": {
    "collapsed": false
   },
   "outputs": [],
   "source": [
    "submit = pd.DataFrame(data={'ID': prediction.index, 'DRUNK_DR': prediction})\n",
    "submit.to_csv('fars_submit.csv', index = False)"
   ]
  }
 ],
 "metadata": {
  "kernelspec": {
   "display_name": "Python 3",
   "language": "python",
   "name": "python3"
  },
  "language_info": {
   "codemirror_mode": {
    "name": "ipython",
    "version": 3
   },
   "file_extension": ".py",
   "mimetype": "text/x-python",
   "name": "python",
   "nbconvert_exporter": "python",
   "pygments_lexer": "ipython3",
   "version": "3.5.1"
  }
 },
 "nbformat": 4,
 "nbformat_minor": 0
}
